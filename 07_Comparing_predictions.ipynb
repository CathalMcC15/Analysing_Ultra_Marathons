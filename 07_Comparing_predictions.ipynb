{
 "cells": [
  {
   "cell_type": "markdown",
   "metadata": {},
   "source": [
    "# UTMB Comparing Predictions"
   ]
  },
  {
   "cell_type": "markdown",
   "metadata": {},
   "source": [
    "This notebook compares the category predictions, gender only predictions and predictions without factoring gender or category. We also compare the predictions for the UTMB using historical CCC pace, with predictions for the UTMB with UTMB paces. Finally we compare the predictions using grade adjusted pace and the original UTMB predictions "
   ]
  },
  {
   "cell_type": "code",
   "execution_count": 1,
   "metadata": {
    "collapsed": true
   },
   "outputs": [],
   "source": [
    "import os.path\n",
    "import datetime\n",
    "import pandas as pd\n",
    "import numpy as np\n",
    "import hashlib\n",
    "import matplotlib\n",
    "import matplotlib.pyplot as plt\n",
    "from scipy.spatial.distance import squareform, pdist\n",
    "from sklearn.metrics import mean_squared_error\n",
    "from math import sqrt\n",
    "%matplotlib inline\n",
    "\n",
    "# Display all columns in Pandas\n",
    "pd.set_option('display.max_columns', None) "
   ]
  },
  {
   "cell_type": "code",
   "execution_count": 2,
   "metadata": {
    "collapsed": true
   },
   "outputs": [],
   "source": [
    "df = pd.read_csv('../../data/pace_predictions.csv', encoding = \"ISO-8859-1\")"
   ]
  },
  {
   "cell_type": "code",
   "execution_count": 3,
   "metadata": {},
   "outputs": [
    {
     "data": {
      "text/html": [
       "<div>\n",
       "<style>\n",
       "    .dataframe thead tr:only-child th {\n",
       "        text-align: right;\n",
       "    }\n",
       "\n",
       "    .dataframe thead th {\n",
       "        text-align: left;\n",
       "    }\n",
       "\n",
       "    .dataframe tbody tr th {\n",
       "        vertical-align: top;\n",
       "    }\n",
       "</style>\n",
       "<table border=\"1\" class=\"dataframe\">\n",
       "  <thead>\n",
       "    <tr style=\"text-align: right;\">\n",
       "      <th></th>\n",
       "      <th>Unnamed: 0</th>\n",
       "      <th>category</th>\n",
       "      <th>gender</th>\n",
       "      <th>query_AVG_Pace</th>\n",
       "      <th>query_pb</th>\n",
       "      <th>best_pb_prediction</th>\n",
       "      <th>mean_pb_average_pace</th>\n",
       "      <th>weighted_mean</th>\n",
       "      <th>euc_weighted_mean</th>\n",
       "    </tr>\n",
       "  </thead>\n",
       "  <tbody>\n",
       "    <tr>\n",
       "      <th>0</th>\n",
       "      <td>0</td>\n",
       "      <td>Senior Men (23-39)</td>\n",
       "      <td>Male</td>\n",
       "      <td>14.183180</td>\n",
       "      <td>13.489501</td>\n",
       "      <td>11.680842</td>\n",
       "      <td>13.330479</td>\n",
       "      <td>13.330815</td>\n",
       "      <td>13.089284</td>\n",
       "    </tr>\n",
       "    <tr>\n",
       "      <th>1</th>\n",
       "      <td>1</td>\n",
       "      <td>Senior Men (23-39)</td>\n",
       "      <td>Male</td>\n",
       "      <td>15.188612</td>\n",
       "      <td>13.489501</td>\n",
       "      <td>12.564133</td>\n",
       "      <td>14.455599</td>\n",
       "      <td>14.455653</td>\n",
       "      <td>14.593701</td>\n",
       "    </tr>\n",
       "    <tr>\n",
       "      <th>2</th>\n",
       "      <td>2</td>\n",
       "      <td>Senior Men (23-39)</td>\n",
       "      <td>Male</td>\n",
       "      <td>16.367387</td>\n",
       "      <td>13.945114</td>\n",
       "      <td>14.427646</td>\n",
       "      <td>15.297827</td>\n",
       "      <td>15.298082</td>\n",
       "      <td>15.796754</td>\n",
       "    </tr>\n",
       "    <tr>\n",
       "      <th>3</th>\n",
       "      <td>3</td>\n",
       "      <td>Masters Men 1 (40-49)</td>\n",
       "      <td>Male</td>\n",
       "      <td>17.602140</td>\n",
       "      <td>15.121991</td>\n",
       "      <td>14.267966</td>\n",
       "      <td>15.590489</td>\n",
       "      <td>15.591208</td>\n",
       "      <td>15.625839</td>\n",
       "    </tr>\n",
       "    <tr>\n",
       "      <th>4</th>\n",
       "      <td>4</td>\n",
       "      <td>Masters Men 1 (40-49)</td>\n",
       "      <td>Male</td>\n",
       "      <td>14.964501</td>\n",
       "      <td>13.769848</td>\n",
       "      <td>13.358058</td>\n",
       "      <td>14.010092</td>\n",
       "      <td>14.010088</td>\n",
       "      <td>13.451506</td>\n",
       "    </tr>\n",
       "  </tbody>\n",
       "</table>\n",
       "</div>"
      ],
      "text/plain": [
       "   Unnamed: 0               category gender  query_AVG_Pace   query_pb  \\\n",
       "0           0     Senior Men (23-39)   Male       14.183180  13.489501   \n",
       "1           1     Senior Men (23-39)   Male       15.188612  13.489501   \n",
       "2           2     Senior Men (23-39)   Male       16.367387  13.945114   \n",
       "3           3  Masters Men 1 (40-49)   Male       17.602140  15.121991   \n",
       "4           4  Masters Men 1 (40-49)   Male       14.964501  13.769848   \n",
       "\n",
       "   best_pb_prediction  mean_pb_average_pace  weighted_mean  euc_weighted_mean  \n",
       "0           11.680842             13.330479      13.330815          13.089284  \n",
       "1           12.564133             14.455599      14.455653          14.593701  \n",
       "2           14.427646             15.297827      15.298082          15.796754  \n",
       "3           14.267966             15.590489      15.591208          15.625839  \n",
       "4           13.358058             14.010092      14.010088          13.451506  "
      ]
     },
     "execution_count": 3,
     "metadata": {},
     "output_type": "execute_result"
    }
   ],
   "source": [
    "df.head()"
   ]
  },
  {
   "cell_type": "code",
   "execution_count": 4,
   "metadata": {
    "collapsed": true
   },
   "outputs": [],
   "source": [
    "df['pb_error'] = df.best_pb_prediction - df.query_pb\n",
    "df['pb_error'] = df.pb_error.abs()\n",
    "df['mean_error'] = df.mean_pb_average_pace - df.query_pb\n",
    "df['mean_error'] = df.mean_error.abs()\n",
    "df['cos_error'] = df.weighted_mean - df.query_pb\n",
    "df['cos_error'] = df.cos_error.abs()\n",
    "df['euc_error'] = df.euc_weighted_mean - df.query_pb\n",
    "df['euc_error'] = df.euc_error.abs()"
   ]
  },
  {
   "cell_type": "code",
   "execution_count": 5,
   "metadata": {
    "collapsed": true
   },
   "outputs": [],
   "source": [
    "df = df.dropna()"
   ]
  },
  {
   "cell_type": "markdown",
   "metadata": {},
   "source": [
    "# Gender Only"
   ]
  },
  {
   "cell_type": "code",
   "execution_count": 6,
   "metadata": {
    "collapsed": true
   },
   "outputs": [],
   "source": [
    "df1 = pd.read_csv('../../data/GO_pace_predictions.csv', encoding = \"ISO-8859-1\")"
   ]
  },
  {
   "cell_type": "code",
   "execution_count": 7,
   "metadata": {},
   "outputs": [
    {
     "data": {
      "text/html": [
       "<div>\n",
       "<style>\n",
       "    .dataframe thead tr:only-child th {\n",
       "        text-align: right;\n",
       "    }\n",
       "\n",
       "    .dataframe thead th {\n",
       "        text-align: left;\n",
       "    }\n",
       "\n",
       "    .dataframe tbody tr th {\n",
       "        vertical-align: top;\n",
       "    }\n",
       "</style>\n",
       "<table border=\"1\" class=\"dataframe\">\n",
       "  <thead>\n",
       "    <tr style=\"text-align: right;\">\n",
       "      <th></th>\n",
       "      <th>Unnamed: 0</th>\n",
       "      <th>category</th>\n",
       "      <th>gender</th>\n",
       "      <th>query_AVG_Pace</th>\n",
       "      <th>query_pb</th>\n",
       "      <th>best_pb_prediction</th>\n",
       "      <th>mean_pb_average_pace</th>\n",
       "      <th>weighted_mean</th>\n",
       "      <th>euc_weighted_mean</th>\n",
       "    </tr>\n",
       "  </thead>\n",
       "  <tbody>\n",
       "    <tr>\n",
       "      <th>0</th>\n",
       "      <td>0</td>\n",
       "      <td>Senior Men (23-39)</td>\n",
       "      <td>Male</td>\n",
       "      <td>14.183180</td>\n",
       "      <td>13.489501</td>\n",
       "      <td>12.994630</td>\n",
       "      <td>13.267151</td>\n",
       "      <td>13.267170</td>\n",
       "      <td>13.084611</td>\n",
       "    </tr>\n",
       "    <tr>\n",
       "      <th>1</th>\n",
       "      <td>1</td>\n",
       "      <td>Senior Men (23-39)</td>\n",
       "      <td>Male</td>\n",
       "      <td>15.188612</td>\n",
       "      <td>13.489501</td>\n",
       "      <td>14.561941</td>\n",
       "      <td>15.165493</td>\n",
       "      <td>15.165590</td>\n",
       "      <td>14.544371</td>\n",
       "    </tr>\n",
       "    <tr>\n",
       "      <th>2</th>\n",
       "      <td>2</td>\n",
       "      <td>Senior Men (23-39)</td>\n",
       "      <td>Male</td>\n",
       "      <td>16.367387</td>\n",
       "      <td>13.945114</td>\n",
       "      <td>14.862793</td>\n",
       "      <td>15.946644</td>\n",
       "      <td>15.946630</td>\n",
       "      <td>16.087892</td>\n",
       "    </tr>\n",
       "    <tr>\n",
       "      <th>3</th>\n",
       "      <td>3</td>\n",
       "      <td>Masters Men 1 (40-49)</td>\n",
       "      <td>Male</td>\n",
       "      <td>17.602140</td>\n",
       "      <td>15.121991</td>\n",
       "      <td>14.592674</td>\n",
       "      <td>16.020199</td>\n",
       "      <td>16.020118</td>\n",
       "      <td>15.783054</td>\n",
       "    </tr>\n",
       "    <tr>\n",
       "      <th>4</th>\n",
       "      <td>4</td>\n",
       "      <td>Masters Men 1 (40-49)</td>\n",
       "      <td>Male</td>\n",
       "      <td>14.964501</td>\n",
       "      <td>13.769848</td>\n",
       "      <td>13.358058</td>\n",
       "      <td>14.176924</td>\n",
       "      <td>14.177359</td>\n",
       "      <td>13.047495</td>\n",
       "    </tr>\n",
       "  </tbody>\n",
       "</table>\n",
       "</div>"
      ],
      "text/plain": [
       "   Unnamed: 0               category gender  query_AVG_Pace   query_pb  \\\n",
       "0           0     Senior Men (23-39)   Male       14.183180  13.489501   \n",
       "1           1     Senior Men (23-39)   Male       15.188612  13.489501   \n",
       "2           2     Senior Men (23-39)   Male       16.367387  13.945114   \n",
       "3           3  Masters Men 1 (40-49)   Male       17.602140  15.121991   \n",
       "4           4  Masters Men 1 (40-49)   Male       14.964501  13.769848   \n",
       "\n",
       "   best_pb_prediction  mean_pb_average_pace  weighted_mean  euc_weighted_mean  \n",
       "0           12.994630             13.267151      13.267170          13.084611  \n",
       "1           14.561941             15.165493      15.165590          14.544371  \n",
       "2           14.862793             15.946644      15.946630          16.087892  \n",
       "3           14.592674             16.020199      16.020118          15.783054  \n",
       "4           13.358058             14.176924      14.177359          13.047495  "
      ]
     },
     "execution_count": 7,
     "metadata": {},
     "output_type": "execute_result"
    }
   ],
   "source": [
    "df1.head()"
   ]
  },
  {
   "cell_type": "code",
   "execution_count": 8,
   "metadata": {
    "collapsed": true
   },
   "outputs": [],
   "source": [
    "df1['pb_error'] = df1.best_pb_prediction - df1.query_pb\n",
    "df1['pb_error'] = df1.pb_error.abs()\n",
    "df1['mean_error'] = df1.mean_pb_average_pace - df1.query_pb\n",
    "df1['mean_error'] = df1.mean_error.abs()\n",
    "df1['cos_error'] = df1.weighted_mean - df1.query_pb\n",
    "df1['cos_error'] = df1.cos_error.abs()\n",
    "df1['euc_error'] = df1.euc_weighted_mean - df1.query_pb\n",
    "df1['euc_error'] = df1.euc_error.abs()"
   ]
  },
  {
   "cell_type": "code",
   "execution_count": 9,
   "metadata": {
    "collapsed": true
   },
   "outputs": [],
   "source": [
    "df1 = df1.dropna()"
   ]
  },
  {
   "cell_type": "markdown",
   "metadata": {},
   "source": [
    "# Ignoring Gender"
   ]
  },
  {
   "cell_type": "code",
   "execution_count": 10,
   "metadata": {
    "collapsed": true
   },
   "outputs": [],
   "source": [
    "df2 = pd.read_csv('../../data/IG_pace_predictions.csv', encoding = \"ISO-8859-1\")"
   ]
  },
  {
   "cell_type": "code",
   "execution_count": 11,
   "metadata": {},
   "outputs": [
    {
     "data": {
      "text/html": [
       "<div>\n",
       "<style>\n",
       "    .dataframe thead tr:only-child th {\n",
       "        text-align: right;\n",
       "    }\n",
       "\n",
       "    .dataframe thead th {\n",
       "        text-align: left;\n",
       "    }\n",
       "\n",
       "    .dataframe tbody tr th {\n",
       "        vertical-align: top;\n",
       "    }\n",
       "</style>\n",
       "<table border=\"1\" class=\"dataframe\">\n",
       "  <thead>\n",
       "    <tr style=\"text-align: right;\">\n",
       "      <th></th>\n",
       "      <th>Unnamed: 0</th>\n",
       "      <th>category</th>\n",
       "      <th>gender</th>\n",
       "      <th>query_AVG_Pace</th>\n",
       "      <th>query_pb</th>\n",
       "      <th>best_pb_prediction</th>\n",
       "      <th>mean_pb_average_pace</th>\n",
       "      <th>weighted_mean</th>\n",
       "      <th>euc_weighted_mean</th>\n",
       "    </tr>\n",
       "  </thead>\n",
       "  <tbody>\n",
       "    <tr>\n",
       "      <th>0</th>\n",
       "      <td>0</td>\n",
       "      <td>Senior Men (23-39)</td>\n",
       "      <td>Male</td>\n",
       "      <td>14.183180</td>\n",
       "      <td>13.489501</td>\n",
       "      <td>12.994630</td>\n",
       "      <td>13.413751</td>\n",
       "      <td>13.413701</td>\n",
       "      <td>13.084611</td>\n",
       "    </tr>\n",
       "    <tr>\n",
       "      <th>1</th>\n",
       "      <td>1</td>\n",
       "      <td>Senior Men (23-39)</td>\n",
       "      <td>Male</td>\n",
       "      <td>15.188612</td>\n",
       "      <td>13.489501</td>\n",
       "      <td>14.561941</td>\n",
       "      <td>14.940140</td>\n",
       "      <td>14.940304</td>\n",
       "      <td>14.544371</td>\n",
       "    </tr>\n",
       "    <tr>\n",
       "      <th>2</th>\n",
       "      <td>2</td>\n",
       "      <td>Senior Men (23-39)</td>\n",
       "      <td>Male</td>\n",
       "      <td>16.367387</td>\n",
       "      <td>13.945114</td>\n",
       "      <td>14.862793</td>\n",
       "      <td>15.946644</td>\n",
       "      <td>15.946630</td>\n",
       "      <td>16.000767</td>\n",
       "    </tr>\n",
       "    <tr>\n",
       "      <th>3</th>\n",
       "      <td>3</td>\n",
       "      <td>Masters Men 1 (40-49)</td>\n",
       "      <td>Male</td>\n",
       "      <td>17.602140</td>\n",
       "      <td>15.121991</td>\n",
       "      <td>14.948240</td>\n",
       "      <td>15.796866</td>\n",
       "      <td>15.796847</td>\n",
       "      <td>15.796307</td>\n",
       "    </tr>\n",
       "    <tr>\n",
       "      <th>4</th>\n",
       "      <td>4</td>\n",
       "      <td>Masters Men 1 (40-49)</td>\n",
       "      <td>Male</td>\n",
       "      <td>14.964501</td>\n",
       "      <td>13.769848</td>\n",
       "      <td>13.358058</td>\n",
       "      <td>14.101669</td>\n",
       "      <td>14.102154</td>\n",
       "      <td>13.098066</td>\n",
       "    </tr>\n",
       "  </tbody>\n",
       "</table>\n",
       "</div>"
      ],
      "text/plain": [
       "   Unnamed: 0               category gender  query_AVG_Pace   query_pb  \\\n",
       "0           0     Senior Men (23-39)   Male       14.183180  13.489501   \n",
       "1           1     Senior Men (23-39)   Male       15.188612  13.489501   \n",
       "2           2     Senior Men (23-39)   Male       16.367387  13.945114   \n",
       "3           3  Masters Men 1 (40-49)   Male       17.602140  15.121991   \n",
       "4           4  Masters Men 1 (40-49)   Male       14.964501  13.769848   \n",
       "\n",
       "   best_pb_prediction  mean_pb_average_pace  weighted_mean  euc_weighted_mean  \n",
       "0           12.994630             13.413751      13.413701          13.084611  \n",
       "1           14.561941             14.940140      14.940304          14.544371  \n",
       "2           14.862793             15.946644      15.946630          16.000767  \n",
       "3           14.948240             15.796866      15.796847          15.796307  \n",
       "4           13.358058             14.101669      14.102154          13.098066  "
      ]
     },
     "execution_count": 11,
     "metadata": {},
     "output_type": "execute_result"
    }
   ],
   "source": [
    "df2.head()"
   ]
  },
  {
   "cell_type": "code",
   "execution_count": 12,
   "metadata": {
    "collapsed": true
   },
   "outputs": [],
   "source": [
    "df2['pb_error'] = df2.best_pb_prediction - df2.query_pb\n",
    "df2['pb_error'] = df2.pb_error.abs()\n",
    "df2['mean_error'] = df2.mean_pb_average_pace - df2.query_pb\n",
    "df2['mean_error'] = df2.mean_error.abs()\n",
    "df2['cos_error'] = df2.weighted_mean - df2.query_pb\n",
    "df2['cos_error'] = df2.cos_error.abs()\n",
    "df2['euc_error'] = df2.euc_weighted_mean - df2.query_pb\n",
    "df2['euc_error'] = df2.euc_error.abs()"
   ]
  },
  {
   "cell_type": "code",
   "execution_count": 13,
   "metadata": {
    "collapsed": true
   },
   "outputs": [],
   "source": [
    "df2 = df2.dropna()"
   ]
  },
  {
   "cell_type": "markdown",
   "metadata": {
    "collapsed": true
   },
   "source": [
    "### Percentage"
   ]
  },
  {
   "cell_type": "code",
   "execution_count": 14,
   "metadata": {},
   "outputs": [
    {
     "name": "stdout",
     "output_type": "stream",
     "text": [
      "Fastest Case Percentage:  9.864390074446712\n",
      "Mean of Cases Percentage:  6.946618220570911\n",
      "Cosine Mean %: 6.945719489183475\n",
      "Euclidean Mean %:  6.725855221333613\n"
     ]
    }
   ],
   "source": [
    "wabestper = ((df.pb_error / df.query_pb) * 100).mean()\n",
    "wameanper = ((df.mean_error / df.query_pb) * 100).mean()\n",
    "wacosper = ((df.cos_error / df.query_pb) * 100).mean()\n",
    "waeucper = ((df.euc_error / df.query_pb) * 100).mean()\n",
    "\n",
    "print('Fastest Case Percentage: ', wabestper)\n",
    "print('Mean of Cases Percentage: ',  wameanper)\n",
    "print('Cosine Mean %:',  wacosper)\n",
    "print('Euclidean Mean %: ', waeucper)"
   ]
  },
  {
   "cell_type": "code",
   "execution_count": 15,
   "metadata": {},
   "outputs": [
    {
     "name": "stdout",
     "output_type": "stream",
     "text": [
      "Fastest Case Percentage:  9.946898908136273\n",
      "Mean of Cases Percentage:  6.8867587579572085\n",
      "Cosine Mean %: 6.887257503414209\n",
      "Euclidean Mean %:  6.661457666127492\n"
     ]
    }
   ],
   "source": [
    "abestper = ((df1.pb_error / df1.query_pb) * 100).mean()\n",
    "ameanper = ((df1.mean_error / df1.query_pb) * 100).mean()\n",
    "acosper = ((df1.cos_error / df1.query_pb) * 100).mean()\n",
    "aeucper = ((df1.euc_error / df1.query_pb) * 100).mean()\n",
    "\n",
    "print('Fastest Case Percentage: ', abestper)\n",
    "print('Mean of Cases Percentage: ',  ameanper)\n",
    "print('Cosine Mean %:',  acosper)\n",
    "print('Euclidean Mean %: ', aeucper)"
   ]
  },
  {
   "cell_type": "code",
   "execution_count": 16,
   "metadata": {},
   "outputs": [
    {
     "name": "stdout",
     "output_type": "stream",
     "text": [
      "Fastest Case Percentage:  9.940991940127446\n",
      "Mean of Cases Percentage:  6.890027688531212\n",
      "Cosine Mean %: 6.890001156124148\n",
      "Euclidean Mean %:  6.624243652916474\n"
     ]
    }
   ],
   "source": [
    "ibestper = ((df2.pb_error / df2.query_pb) * 100).mean()\n",
    "imeanper = ((df2.mean_error / df2.query_pb) * 100).mean()\n",
    "icosper = ((df2.cos_error / df2.query_pb) * 100).mean()\n",
    "ieucper = ((df2.euc_error / df2.query_pb) * 100).mean()\n",
    "\n",
    "print('Fastest Case Percentage: ', ibestper)\n",
    "print('Mean of Cases Percentage: ',  imeanper)\n",
    "print('Cosine Mean %:',  icosper)\n",
    "print('Euclidean Mean %: ', ieucper)"
   ]
  },
  {
   "cell_type": "code",
   "execution_count": 17,
   "metadata": {
    "collapsed": true
   },
   "outputs": [],
   "source": [
    "gender_only = [ameanper, abestper, acosper, aeucper]\n",
    "original = [wameanper, wabestper, wacosper, waeucper]\n",
    "ignore_all = [imeanper, ibestper, icosper, ieucper]"
   ]
  },
  {
   "cell_type": "code",
   "execution_count": 18,
   "metadata": {},
   "outputs": [
    {
     "data": {
      "text/plain": [
       "<matplotlib.legend.Legend at 0x207cc931358>"
      ]
     },
     "execution_count": 18,
     "metadata": {},
     "output_type": "execute_result"
    },
    {
     "data": {
      "image/png": "[encoded data removed]",
      "text/plain": [
       "<matplotlib.figure.Figure at 0x207cc931710>"
      ]
     },
     "metadata": {},
     "output_type": "display_data"
    }
   ],
   "source": [
    "index = ['Mean of Cases Error', 'Fastest Case Error', 'Cos. Wei Mean Error', 'Euc. Wei. Mean Error']\n",
    "gra_w = pd.DataFrame({'Original': original, 'Gender Only': gender_only, 'Ignoring Gender & Category': ignore_all}, index=index)\n",
    "ax = gra_w.plot.bar(figsize=(18, 9), fontsize=22, rot=0)\n",
    "ax.set_ylabel('% Error', fontsize = 30)\n",
    "ax.set_xlabel('Evaluation Methods', fontsize = 30)\n",
    "ax.legend(fontsize = 22)"
   ]
  },
  {
   "cell_type": "markdown",
   "metadata": {},
   "source": [
    "Predictions were found using three different techniques: (1) Finding similar runners with equal\n",
    "category, (2) Finding similar runners with equal gender only, (3) Finding similar runners ignoring\n",
    "gender and category.\n",
    "The comparisons show that for the UTMB it does not make a considerable difference to only\n",
    "retrieve runners of equal category/gender when using the case base reasoning approach. The\n",
    "results are almost equal in each evaluation method. This indicates that there is not much difference\n",
    "between gender or age groups in terms of performance. Nevertheless, for this analysis, only cases\n",
    "of the same category would be retrieved. According to many studies above, there is a difference\n",
    "in terms of performance for categories and gender. Although, these results seem to indicate these\n",
    "differences do not have a great effect on average pace prediction. Equal category is remains the\n",
    "primary technique in case there are runners who are outperforming other runners despite running\n",
    "the same pace.\n"
   ]
  },
  {
   "cell_type": "markdown",
   "metadata": {},
   "source": [
    "# CCC vs UTMB"
   ]
  },
  {
   "cell_type": "markdown",
   "metadata": {},
   "source": [
    "This sections compares the predictions for the UTMB using historical CCC pace, with predictions for the UTMB with UTMB paces. "
   ]
  },
  {
   "cell_type": "code",
   "execution_count": 19,
   "metadata": {
    "collapsed": true
   },
   "outputs": [],
   "source": [
    "df3 = pd.read_csv('../../data/CCC_predictions.csv', encoding = \"ISO-8859-1\")"
   ]
  },
  {
   "cell_type": "code",
   "execution_count": 20,
   "metadata": {},
   "outputs": [
    {
     "data": {
      "text/html": [
       "<div>\n",
       "<style>\n",
       "    .dataframe thead tr:only-child th {\n",
       "        text-align: right;\n",
       "    }\n",
       "\n",
       "    .dataframe thead th {\n",
       "        text-align: left;\n",
       "    }\n",
       "\n",
       "    .dataframe tbody tr th {\n",
       "        vertical-align: top;\n",
       "    }\n",
       "</style>\n",
       "<table border=\"1\" class=\"dataframe\">\n",
       "  <thead>\n",
       "    <tr style=\"text-align: right;\">\n",
       "      <th></th>\n",
       "      <th>Unnamed: 0</th>\n",
       "      <th>category</th>\n",
       "      <th>gender</th>\n",
       "      <th>query_AVG_Pace</th>\n",
       "      <th>query_pb</th>\n",
       "      <th>best_pb_prediction</th>\n",
       "      <th>mean_pb_average_pace</th>\n",
       "      <th>weighted_mean</th>\n",
       "      <th>euc_weighted_mean</th>\n",
       "    </tr>\n",
       "  </thead>\n",
       "  <tbody>\n",
       "    <tr>\n",
       "      <th>0</th>\n",
       "      <td>0</td>\n",
       "      <td>Masters Men 1 (40-49)</td>\n",
       "      <td>Male</td>\n",
       "      <td>11.246015</td>\n",
       "      <td>15.222938</td>\n",
       "      <td>11.995858</td>\n",
       "      <td>14.050342</td>\n",
       "      <td>14.050399</td>\n",
       "      <td>14.394697</td>\n",
       "    </tr>\n",
       "    <tr>\n",
       "      <th>1</th>\n",
       "      <td>1</td>\n",
       "      <td>Senior Men (23-39)</td>\n",
       "      <td>Male</td>\n",
       "      <td>21.929566</td>\n",
       "      <td>15.222938</td>\n",
       "      <td>15.726010</td>\n",
       "      <td>16.750925</td>\n",
       "      <td>16.750918</td>\n",
       "      <td>16.442480</td>\n",
       "    </tr>\n",
       "    <tr>\n",
       "      <th>2</th>\n",
       "      <td>2</td>\n",
       "      <td>Senior Men (23-39)</td>\n",
       "      <td>Male</td>\n",
       "      <td>10.436679</td>\n",
       "      <td>12.416371</td>\n",
       "      <td>11.363543</td>\n",
       "      <td>13.571467</td>\n",
       "      <td>13.571714</td>\n",
       "      <td>13.875511</td>\n",
       "    </tr>\n",
       "    <tr>\n",
       "      <th>3</th>\n",
       "      <td>3</td>\n",
       "      <td>Senior Men (23-39)</td>\n",
       "      <td>Male</td>\n",
       "      <td>18.033282</td>\n",
       "      <td>13.945114</td>\n",
       "      <td>14.328692</td>\n",
       "      <td>16.382603</td>\n",
       "      <td>16.382770</td>\n",
       "      <td>15.795056</td>\n",
       "    </tr>\n",
       "    <tr>\n",
       "      <th>4</th>\n",
       "      <td>4</td>\n",
       "      <td>Senior Men (23-39)</td>\n",
       "      <td>Male</td>\n",
       "      <td>17.350464</td>\n",
       "      <td>12.670525</td>\n",
       "      <td>14.945903</td>\n",
       "      <td>16.093129</td>\n",
       "      <td>16.093250</td>\n",
       "      <td>15.758484</td>\n",
       "    </tr>\n",
       "  </tbody>\n",
       "</table>\n",
       "</div>"
      ],
      "text/plain": [
       "   Unnamed: 0               category gender  query_AVG_Pace   query_pb  \\\n",
       "0           0  Masters Men 1 (40-49)   Male       11.246015  15.222938   \n",
       "1           1     Senior Men (23-39)   Male       21.929566  15.222938   \n",
       "2           2     Senior Men (23-39)   Male       10.436679  12.416371   \n",
       "3           3     Senior Men (23-39)   Male       18.033282  13.945114   \n",
       "4           4     Senior Men (23-39)   Male       17.350464  12.670525   \n",
       "\n",
       "   best_pb_prediction  mean_pb_average_pace  weighted_mean  euc_weighted_mean  \n",
       "0           11.995858             14.050342      14.050399          14.394697  \n",
       "1           15.726010             16.750925      16.750918          16.442480  \n",
       "2           11.363543             13.571467      13.571714          13.875511  \n",
       "3           14.328692             16.382603      16.382770          15.795056  \n",
       "4           14.945903             16.093129      16.093250          15.758484  "
      ]
     },
     "execution_count": 20,
     "metadata": {},
     "output_type": "execute_result"
    }
   ],
   "source": [
    "df3.head()"
   ]
  },
  {
   "cell_type": "code",
   "execution_count": 21,
   "metadata": {
    "collapsed": true
   },
   "outputs": [],
   "source": [
    "df3['pb_error'] = df3.best_pb_prediction - df3.query_pb\n",
    "df3['pb_error'] = df3.pb_error.abs()\n",
    "df3['mean_error'] = df3.mean_pb_average_pace - df3.query_pb\n",
    "df3['mean_error'] = df3.mean_error.abs()\n",
    "df3['cos_error'] = df3.weighted_mean - df3.query_pb\n",
    "df3['cos_error'] = df3.cos_error.abs()\n",
    "df3['euc_error'] = df3.euc_weighted_mean - df3.query_pb\n",
    "df3['euc_error'] = df3.euc_error.abs()"
   ]
  },
  {
   "cell_type": "code",
   "execution_count": 22,
   "metadata": {
    "collapsed": true
   },
   "outputs": [],
   "source": [
    "df3 = df3.dropna()"
   ]
  },
  {
   "cell_type": "code",
   "execution_count": 23,
   "metadata": {},
   "outputs": [
    {
     "data": {
      "text/html": [
       "<div>\n",
       "<style>\n",
       "    .dataframe thead tr:only-child th {\n",
       "        text-align: right;\n",
       "    }\n",
       "\n",
       "    .dataframe thead th {\n",
       "        text-align: left;\n",
       "    }\n",
       "\n",
       "    .dataframe tbody tr th {\n",
       "        vertical-align: top;\n",
       "    }\n",
       "</style>\n",
       "<table border=\"1\" class=\"dataframe\">\n",
       "  <thead>\n",
       "    <tr style=\"text-align: right;\">\n",
       "      <th></th>\n",
       "      <th>Unnamed: 0</th>\n",
       "      <th>query_AVG_Pace</th>\n",
       "      <th>query_pb</th>\n",
       "      <th>best_pb_prediction</th>\n",
       "      <th>mean_pb_average_pace</th>\n",
       "      <th>weighted_mean</th>\n",
       "      <th>euc_weighted_mean</th>\n",
       "      <th>pb_error</th>\n",
       "      <th>mean_error</th>\n",
       "      <th>cos_error</th>\n",
       "      <th>euc_error</th>\n",
       "    </tr>\n",
       "  </thead>\n",
       "  <tbody>\n",
       "    <tr>\n",
       "      <th>count</th>\n",
       "      <td>2798.000000</td>\n",
       "      <td>2798.000000</td>\n",
       "      <td>2798.000000</td>\n",
       "      <td>2798.000000</td>\n",
       "      <td>2798.000000</td>\n",
       "      <td>2798.000000</td>\n",
       "      <td>2798.000000</td>\n",
       "      <td>2798.000000</td>\n",
       "      <td>2798.000000</td>\n",
       "      <td>2798.000000</td>\n",
       "      <td>2798.000000</td>\n",
       "    </tr>\n",
       "    <tr>\n",
       "      <th>mean</th>\n",
       "      <td>1398.500000</td>\n",
       "      <td>14.131484</td>\n",
       "      <td>15.058097</td>\n",
       "      <td>13.372615</td>\n",
       "      <td>14.934657</td>\n",
       "      <td>14.935100</td>\n",
       "      <td>15.068784</td>\n",
       "      <td>2.053001</td>\n",
       "      <td>1.260699</td>\n",
       "      <td>1.260610</td>\n",
       "      <td>1.230525</td>\n",
       "    </tr>\n",
       "    <tr>\n",
       "      <th>std</th>\n",
       "      <td>807.857351</td>\n",
       "      <td>2.899558</td>\n",
       "      <td>2.055731</td>\n",
       "      <td>1.981932</td>\n",
       "      <td>1.441679</td>\n",
       "      <td>1.442207</td>\n",
       "      <td>1.451683</td>\n",
       "      <td>1.602567</td>\n",
       "      <td>1.055860</td>\n",
       "      <td>1.056204</td>\n",
       "      <td>1.037619</td>\n",
       "    </tr>\n",
       "    <tr>\n",
       "      <th>min</th>\n",
       "      <td>0.000000</td>\n",
       "      <td>6.163279</td>\n",
       "      <td>7.012357</td>\n",
       "      <td>7.369861</td>\n",
       "      <td>8.390882</td>\n",
       "      <td>8.393641</td>\n",
       "      <td>8.399398</td>\n",
       "      <td>0.001173</td>\n",
       "      <td>0.000000</td>\n",
       "      <td>0.000000</td>\n",
       "      <td>0.000000</td>\n",
       "    </tr>\n",
       "    <tr>\n",
       "      <th>25%</th>\n",
       "      <td>699.250000</td>\n",
       "      <td>12.098042</td>\n",
       "      <td>13.903040</td>\n",
       "      <td>12.149443</td>\n",
       "      <td>14.305404</td>\n",
       "      <td>14.305308</td>\n",
       "      <td>14.446324</td>\n",
       "      <td>0.791482</td>\n",
       "      <td>0.467203</td>\n",
       "      <td>0.467144</td>\n",
       "      <td>0.455999</td>\n",
       "    </tr>\n",
       "    <tr>\n",
       "      <th>50%</th>\n",
       "      <td>1398.500000</td>\n",
       "      <td>14.114119</td>\n",
       "      <td>15.482386</td>\n",
       "      <td>13.561963</td>\n",
       "      <td>15.213592</td>\n",
       "      <td>15.213645</td>\n",
       "      <td>15.406308</td>\n",
       "      <td>1.692978</td>\n",
       "      <td>0.996875</td>\n",
       "      <td>0.996800</td>\n",
       "      <td>0.952259</td>\n",
       "    </tr>\n",
       "    <tr>\n",
       "      <th>75%</th>\n",
       "      <td>2097.750000</td>\n",
       "      <td>15.721295</td>\n",
       "      <td>16.518035</td>\n",
       "      <td>14.892698</td>\n",
       "      <td>16.012139</td>\n",
       "      <td>16.013156</td>\n",
       "      <td>16.115056</td>\n",
       "      <td>2.962373</td>\n",
       "      <td>1.781175</td>\n",
       "      <td>1.780925</td>\n",
       "      <td>1.728068</td>\n",
       "    </tr>\n",
       "    <tr>\n",
       "      <th>max</th>\n",
       "      <td>2797.000000</td>\n",
       "      <td>25.686363</td>\n",
       "      <td>20.920000</td>\n",
       "      <td>17.907937</td>\n",
       "      <td>17.524743</td>\n",
       "      <td>17.524891</td>\n",
       "      <td>18.363630</td>\n",
       "      <td>9.292356</td>\n",
       "      <td>7.926842</td>\n",
       "      <td>7.930365</td>\n",
       "      <td>8.054675</td>\n",
       "    </tr>\n",
       "  </tbody>\n",
       "</table>\n",
       "</div>"
      ],
      "text/plain": [
       "        Unnamed: 0  query_AVG_Pace     query_pb  best_pb_prediction  \\\n",
       "count  2798.000000     2798.000000  2798.000000         2798.000000   \n",
       "mean   1398.500000       14.131484    15.058097           13.372615   \n",
       "std     807.857351        2.899558     2.055731            1.981932   \n",
       "min       0.000000        6.163279     7.012357            7.369861   \n",
       "25%     699.250000       12.098042    13.903040           12.149443   \n",
       "50%    1398.500000       14.114119    15.482386           13.561963   \n",
       "75%    2097.750000       15.721295    16.518035           14.892698   \n",
       "max    2797.000000       25.686363    20.920000           17.907937   \n",
       "\n",
       "       mean_pb_average_pace  weighted_mean  euc_weighted_mean     pb_error  \\\n",
       "count           2798.000000    2798.000000        2798.000000  2798.000000   \n",
       "mean              14.934657      14.935100          15.068784     2.053001   \n",
       "std                1.441679       1.442207           1.451683     1.602567   \n",
       "min                8.390882       8.393641           8.399398     0.001173   \n",
       "25%               14.305404      14.305308          14.446324     0.791482   \n",
       "50%               15.213592      15.213645          15.406308     1.692978   \n",
       "75%               16.012139      16.013156          16.115056     2.962373   \n",
       "max               17.524743      17.524891          18.363630     9.292356   \n",
       "\n",
       "        mean_error    cos_error    euc_error  \n",
       "count  2798.000000  2798.000000  2798.000000  \n",
       "mean      1.260699     1.260610     1.230525  \n",
       "std       1.055860     1.056204     1.037619  \n",
       "min       0.000000     0.000000     0.000000  \n",
       "25%       0.467203     0.467144     0.455999  \n",
       "50%       0.996875     0.996800     0.952259  \n",
       "75%       1.781175     1.780925     1.728068  \n",
       "max       7.926842     7.930365     8.054675  "
      ]
     },
     "execution_count": 23,
     "metadata": {},
     "output_type": "execute_result"
    }
   ],
   "source": [
    "df3.describe()"
   ]
  },
  {
   "cell_type": "code",
   "execution_count": 24,
   "metadata": {},
   "outputs": [
    {
     "name": "stdout",
     "output_type": "stream",
     "text": [
      "Fastest Case Percentage:  13.421023878222494\n",
      "Mean of Cases Percentage:  8.756593822786922\n",
      "Cosine Mean %: 8.756291062729094\n",
      "Euclidean Mean %:  8.61880930181558\n"
     ]
    }
   ],
   "source": [
    "cbestper = ((df3.pb_error / df3.query_pb) * 100).mean()\n",
    "cmeanper = ((df3.mean_error / df3.query_pb) * 100).mean()\n",
    "ccosper = ((df3.cos_error / df3.query_pb) * 100).mean()\n",
    "ceucper = ((df3.euc_error / df3.query_pb) * 100).mean()\n",
    "\n",
    "print('Fastest Case Percentage: ', cbestper)\n",
    "print('Mean of Cases Percentage: ',  cmeanper)\n",
    "print('Cosine Mean %:',  ccosper)\n",
    "print('Euclidean Mean %: ', ceucper)"
   ]
  },
  {
   "cell_type": "code",
   "execution_count": 25,
   "metadata": {
    "collapsed": true
   },
   "outputs": [],
   "source": [
    "ccc = [cmeanper, cbestper, ccosper, ceucper]"
   ]
  },
  {
   "cell_type": "code",
   "execution_count": 26,
   "metadata": {},
   "outputs": [
    {
     "data": {
      "text/plain": [
       "<matplotlib.legend.Legend at 0x207cc931b70>"
      ]
     },
     "execution_count": 26,
     "metadata": {},
     "output_type": "execute_result"
    },
    {
     "data": {
      "image/png": "[encoded data removed]",
      "text/plain": [
       "<matplotlib.figure.Figure at 0x207ccbf6b70>"
      ]
     },
     "metadata": {},
     "output_type": "display_data"
    }
   ],
   "source": [
    "index = ['Mean of Cases Error', 'Fastest Case Error', 'Weighted Mean Error', 'Euc. Weighted Mean Error']\n",
    "gra_w = pd.DataFrame({'Original': original, 'CCC_to_UTMB': ccc}, index=index)\n",
    "ax = gra_w.plot.bar(figsize=(18, 9), fontsize=18, rot=0)\n",
    "ax.set_ylabel('% Error', fontsize = 24)\n",
    "ax.set_xlabel('Evaluators', fontsize = 24)\n",
    "ax.legend(fontsize = 20)"
   ]
  },
  {
   "cell_type": "markdown",
   "metadata": {},
   "source": [
    "# Grade Adjusted Pace vs UTMB"
   ]
  },
  {
   "cell_type": "markdown",
   "metadata": {},
   "source": [
    "Finally we compare the predictions using grade adjusted pace and the original UTMB predictions"
   ]
  },
  {
   "cell_type": "code",
   "execution_count": 27,
   "metadata": {
    "collapsed": true
   },
   "outputs": [],
   "source": [
    "df3 = pd.read_csv('../../data/GAP_pace_predictions.csv', encoding = \"ISO-8859-1\")"
   ]
  },
  {
   "cell_type": "code",
   "execution_count": 28,
   "metadata": {},
   "outputs": [
    {
     "data": {
      "text/html": [
       "<div>\n",
       "<style>\n",
       "    .dataframe thead tr:only-child th {\n",
       "        text-align: right;\n",
       "    }\n",
       "\n",
       "    .dataframe thead th {\n",
       "        text-align: left;\n",
       "    }\n",
       "\n",
       "    .dataframe tbody tr th {\n",
       "        vertical-align: top;\n",
       "    }\n",
       "</style>\n",
       "<table border=\"1\" class=\"dataframe\">\n",
       "  <thead>\n",
       "    <tr style=\"text-align: right;\">\n",
       "      <th></th>\n",
       "      <th>Unnamed: 0</th>\n",
       "      <th>category</th>\n",
       "      <th>gender</th>\n",
       "      <th>query_AVG_Pace</th>\n",
       "      <th>query_pb</th>\n",
       "      <th>best_pb_prediction</th>\n",
       "      <th>mean_pb_average_pace</th>\n",
       "      <th>weighted_mean</th>\n",
       "      <th>euc_weighted_mean</th>\n",
       "    </tr>\n",
       "  </thead>\n",
       "  <tbody>\n",
       "    <tr>\n",
       "      <th>0</th>\n",
       "      <td>0</td>\n",
       "      <td>Senior Men (23-39)</td>\n",
       "      <td>Male</td>\n",
       "      <td>14.619279</td>\n",
       "      <td>13.950074</td>\n",
       "      <td>13.036878</td>\n",
       "      <td>13.565867</td>\n",
       "      <td>13.565562</td>\n",
       "      <td>13.506101</td>\n",
       "    </tr>\n",
       "    <tr>\n",
       "      <th>1</th>\n",
       "      <td>1</td>\n",
       "      <td>Senior Men (23-39)</td>\n",
       "      <td>Male</td>\n",
       "      <td>15.464438</td>\n",
       "      <td>13.950074</td>\n",
       "      <td>12.861522</td>\n",
       "      <td>15.536794</td>\n",
       "      <td>15.536859</td>\n",
       "      <td>15.486665</td>\n",
       "    </tr>\n",
       "    <tr>\n",
       "      <th>2</th>\n",
       "      <td>2</td>\n",
       "      <td>Senior Men (23-39)</td>\n",
       "      <td>Male</td>\n",
       "      <td>17.017172</td>\n",
       "      <td>13.950512</td>\n",
       "      <td>15.311925</td>\n",
       "      <td>16.276751</td>\n",
       "      <td>16.277098</td>\n",
       "      <td>16.063747</td>\n",
       "    </tr>\n",
       "    <tr>\n",
       "      <th>3</th>\n",
       "      <td>3</td>\n",
       "      <td>Masters Men 1 (40-49)</td>\n",
       "      <td>Male</td>\n",
       "      <td>18.271550</td>\n",
       "      <td>15.749089</td>\n",
       "      <td>15.196247</td>\n",
       "      <td>16.285705</td>\n",
       "      <td>16.285688</td>\n",
       "      <td>16.505808</td>\n",
       "    </tr>\n",
       "    <tr>\n",
       "      <th>4</th>\n",
       "      <td>4</td>\n",
       "      <td>Masters Men 1 (40-49)</td>\n",
       "      <td>Male</td>\n",
       "      <td>16.690929</td>\n",
       "      <td>14.369294</td>\n",
       "      <td>13.480787</td>\n",
       "      <td>14.541288</td>\n",
       "      <td>14.541413</td>\n",
       "      <td>15.033237</td>\n",
       "    </tr>\n",
       "  </tbody>\n",
       "</table>\n",
       "</div>"
      ],
      "text/plain": [
       "   Unnamed: 0               category gender  query_AVG_Pace   query_pb  \\\n",
       "0           0     Senior Men (23-39)   Male       14.619279  13.950074   \n",
       "1           1     Senior Men (23-39)   Male       15.464438  13.950074   \n",
       "2           2     Senior Men (23-39)   Male       17.017172  13.950512   \n",
       "3           3  Masters Men 1 (40-49)   Male       18.271550  15.749089   \n",
       "4           4  Masters Men 1 (40-49)   Male       16.690929  14.369294   \n",
       "\n",
       "   best_pb_prediction  mean_pb_average_pace  weighted_mean  euc_weighted_mean  \n",
       "0           13.036878             13.565867      13.565562          13.506101  \n",
       "1           12.861522             15.536794      15.536859          15.486665  \n",
       "2           15.311925             16.276751      16.277098          16.063747  \n",
       "3           15.196247             16.285705      16.285688          16.505808  \n",
       "4           13.480787             14.541288      14.541413          15.033237  "
      ]
     },
     "execution_count": 28,
     "metadata": {},
     "output_type": "execute_result"
    }
   ],
   "source": [
    "df3.head()"
   ]
  },
  {
   "cell_type": "code",
   "execution_count": 29,
   "metadata": {
    "collapsed": true
   },
   "outputs": [],
   "source": [
    "df3['pb_error'] = df3.best_pb_prediction - df3.query_pb\n",
    "df3['pb_error'] = df3.pb_error.abs()\n",
    "df3['mean_error'] = df3.mean_pb_average_pace - df3.query_pb\n",
    "df3['mean_error'] = df3.mean_error.abs()\n",
    "df3['cos_error'] = df3.weighted_mean - df3.query_pb\n",
    "df3['cos_error'] = df3.cos_error.abs()\n",
    "df3['euc_error'] = df3.euc_weighted_mean - df3.query_pb\n",
    "df3['euc_error'] = df3.euc_error.abs()"
   ]
  },
  {
   "cell_type": "code",
   "execution_count": 30,
   "metadata": {
    "collapsed": true
   },
   "outputs": [],
   "source": [
    "df3 = df3.dropna()"
   ]
  },
  {
   "cell_type": "code",
   "execution_count": 31,
   "metadata": {},
   "outputs": [
    {
     "data": {
      "text/html": [
       "<div>\n",
       "<style>\n",
       "    .dataframe thead tr:only-child th {\n",
       "        text-align: right;\n",
       "    }\n",
       "\n",
       "    .dataframe thead th {\n",
       "        text-align: left;\n",
       "    }\n",
       "\n",
       "    .dataframe tbody tr th {\n",
       "        vertical-align: top;\n",
       "    }\n",
       "</style>\n",
       "<table border=\"1\" class=\"dataframe\">\n",
       "  <thead>\n",
       "    <tr style=\"text-align: right;\">\n",
       "      <th></th>\n",
       "      <th>Unnamed: 0</th>\n",
       "      <th>query_AVG_Pace</th>\n",
       "      <th>query_pb</th>\n",
       "      <th>best_pb_prediction</th>\n",
       "      <th>mean_pb_average_pace</th>\n",
       "      <th>weighted_mean</th>\n",
       "      <th>euc_weighted_mean</th>\n",
       "      <th>pb_error</th>\n",
       "      <th>mean_error</th>\n",
       "      <th>cos_error</th>\n",
       "      <th>euc_error</th>\n",
       "    </tr>\n",
       "  </thead>\n",
       "  <tbody>\n",
       "    <tr>\n",
       "      <th>count</th>\n",
       "      <td>1634.000000</td>\n",
       "      <td>1634.000000</td>\n",
       "      <td>1634.000000</td>\n",
       "      <td>1634.000000</td>\n",
       "      <td>1634.000000</td>\n",
       "      <td>1634.000000</td>\n",
       "      <td>1634.000000</td>\n",
       "      <td>1634.000000</td>\n",
       "      <td>1634.000000</td>\n",
       "      <td>1634.000000</td>\n",
       "      <td>1634.000000</td>\n",
       "    </tr>\n",
       "    <tr>\n",
       "      <th>mean</th>\n",
       "      <td>816.500000</td>\n",
       "      <td>15.137414</td>\n",
       "      <td>13.988890</td>\n",
       "      <td>12.825265</td>\n",
       "      <td>14.198015</td>\n",
       "      <td>14.198013</td>\n",
       "      <td>14.219442</td>\n",
       "      <td>1.583523</td>\n",
       "      <td>1.045361</td>\n",
       "      <td>1.045120</td>\n",
       "      <td>1.033172</td>\n",
       "    </tr>\n",
       "    <tr>\n",
       "      <th>std</th>\n",
       "      <td>471.839485</td>\n",
       "      <td>2.443879</td>\n",
       "      <td>2.555218</td>\n",
       "      <td>2.042571</td>\n",
       "      <td>2.197320</td>\n",
       "      <td>2.197427</td>\n",
       "      <td>2.218566</td>\n",
       "      <td>1.414544</td>\n",
       "      <td>1.062956</td>\n",
       "      <td>1.062840</td>\n",
       "      <td>1.054258</td>\n",
       "    </tr>\n",
       "    <tr>\n",
       "      <th>min</th>\n",
       "      <td>0.000000</td>\n",
       "      <td>7.421834</td>\n",
       "      <td>7.145710</td>\n",
       "      <td>6.977774</td>\n",
       "      <td>7.682719</td>\n",
       "      <td>7.679069</td>\n",
       "      <td>7.659356</td>\n",
       "      <td>0.002772</td>\n",
       "      <td>0.000071</td>\n",
       "      <td>0.000130</td>\n",
       "      <td>0.001178</td>\n",
       "    </tr>\n",
       "    <tr>\n",
       "      <th>25%</th>\n",
       "      <td>408.250000</td>\n",
       "      <td>13.781799</td>\n",
       "      <td>12.257386</td>\n",
       "      <td>11.536424</td>\n",
       "      <td>12.752987</td>\n",
       "      <td>12.753904</td>\n",
       "      <td>12.824507</td>\n",
       "      <td>0.572800</td>\n",
       "      <td>0.346401</td>\n",
       "      <td>0.345807</td>\n",
       "      <td>0.328483</td>\n",
       "    </tr>\n",
       "    <tr>\n",
       "      <th>50%</th>\n",
       "      <td>816.500000</td>\n",
       "      <td>15.588838</td>\n",
       "      <td>14.319020</td>\n",
       "      <td>12.930850</td>\n",
       "      <td>14.887991</td>\n",
       "      <td>14.887958</td>\n",
       "      <td>14.924030</td>\n",
       "      <td>1.203702</td>\n",
       "      <td>0.764079</td>\n",
       "      <td>0.763967</td>\n",
       "      <td>0.755355</td>\n",
       "    </tr>\n",
       "    <tr>\n",
       "      <th>75%</th>\n",
       "      <td>1224.750000</td>\n",
       "      <td>16.877748</td>\n",
       "      <td>15.737202</td>\n",
       "      <td>14.553671</td>\n",
       "      <td>15.897861</td>\n",
       "      <td>15.898076</td>\n",
       "      <td>15.908617</td>\n",
       "      <td>2.244264</td>\n",
       "      <td>1.414097</td>\n",
       "      <td>1.414003</td>\n",
       "      <td>1.407682</td>\n",
       "    </tr>\n",
       "    <tr>\n",
       "      <th>max</th>\n",
       "      <td>1633.000000</td>\n",
       "      <td>21.406122</td>\n",
       "      <td>25.296476</td>\n",
       "      <td>17.307127</td>\n",
       "      <td>18.129856</td>\n",
       "      <td>18.130074</td>\n",
       "      <td>17.961844</td>\n",
       "      <td>14.904793</td>\n",
       "      <td>11.882071</td>\n",
       "      <td>11.882019</td>\n",
       "      <td>11.559565</td>\n",
       "    </tr>\n",
       "  </tbody>\n",
       "</table>\n",
       "</div>"
      ],
      "text/plain": [
       "        Unnamed: 0  query_AVG_Pace     query_pb  best_pb_prediction  \\\n",
       "count  1634.000000     1634.000000  1634.000000         1634.000000   \n",
       "mean    816.500000       15.137414    13.988890           12.825265   \n",
       "std     471.839485        2.443879     2.555218            2.042571   \n",
       "min       0.000000        7.421834     7.145710            6.977774   \n",
       "25%     408.250000       13.781799    12.257386           11.536424   \n",
       "50%     816.500000       15.588838    14.319020           12.930850   \n",
       "75%    1224.750000       16.877748    15.737202           14.553671   \n",
       "max    1633.000000       21.406122    25.296476           17.307127   \n",
       "\n",
       "       mean_pb_average_pace  weighted_mean  euc_weighted_mean     pb_error  \\\n",
       "count           1634.000000    1634.000000        1634.000000  1634.000000   \n",
       "mean              14.198015      14.198013          14.219442     1.583523   \n",
       "std                2.197320       2.197427           2.218566     1.414544   \n",
       "min                7.682719       7.679069           7.659356     0.002772   \n",
       "25%               12.752987      12.753904          12.824507     0.572800   \n",
       "50%               14.887991      14.887958          14.924030     1.203702   \n",
       "75%               15.897861      15.898076          15.908617     2.244264   \n",
       "max               18.129856      18.130074          17.961844    14.904793   \n",
       "\n",
       "        mean_error    cos_error    euc_error  \n",
       "count  1634.000000  1634.000000  1634.000000  \n",
       "mean      1.045361     1.045120     1.033172  \n",
       "std       1.062956     1.062840     1.054258  \n",
       "min       0.000071     0.000130     0.001178  \n",
       "25%       0.346401     0.345807     0.328483  \n",
       "50%       0.764079     0.763967     0.755355  \n",
       "75%       1.414097     1.414003     1.407682  \n",
       "max      11.882071    11.882019    11.559565  "
      ]
     },
     "execution_count": 31,
     "metadata": {},
     "output_type": "execute_result"
    }
   ],
   "source": [
    "df3.describe()"
   ]
  },
  {
   "cell_type": "code",
   "execution_count": 32,
   "metadata": {},
   "outputs": [
    {
     "name": "stdout",
     "output_type": "stream",
     "text": [
      "Fastest Case Percentage:  10.773823601828243\n",
      "Mean of Cases Percentage:  7.685033817667163\n",
      "Cosine Mean %: 7.6834088614141285\n",
      "Euclidean Mean %:  7.601834118268265\n"
     ]
    }
   ],
   "source": [
    "cbestper = ((df3.pb_error / df3.query_pb) * 100).mean()\n",
    "cmeanper = ((df3.mean_error / df3.query_pb) * 100).mean()\n",
    "ccosper = ((df3.cos_error / df3.query_pb) * 100).mean()\n",
    "ceucper = ((df3.euc_error / df3.query_pb) * 100).mean()\n",
    "\n",
    "print('Fastest Case Percentage: ', cbestper)\n",
    "print('Mean of Cases Percentage: ',  cmeanper)\n",
    "print('Cosine Mean %:',  ccosper)\n",
    "print('Euclidean Mean %: ', ceucper)"
   ]
  },
  {
   "cell_type": "code",
   "execution_count": 33,
   "metadata": {
    "collapsed": true
   },
   "outputs": [],
   "source": [
    "ccc = [cmeanper, cbestper, ccosper, ceucper]"
   ]
  },
  {
   "cell_type": "code",
   "execution_count": 34,
   "metadata": {},
   "outputs": [
    {
     "data": {
      "text/plain": [
       "<matplotlib.legend.Legend at 0x207ccc097f0>"
      ]
     },
     "execution_count": 34,
     "metadata": {},
     "output_type": "execute_result"
    },
    {
     "data": {
      "image/png": "[encoded data removed]",
      "text/plain": [
       "<matplotlib.figure.Figure at 0x207ccc09668>"
      ]
     },
     "metadata": {},
     "output_type": "display_data"
    }
   ],
   "source": [
    "index = ['Mean of Cases Error', 'Fastest Case Error', 'Cos. Wei. Mean Error', 'Euc. Wei. Mean Error']\n",
    "gra_w = pd.DataFrame({'Original': original, 'Grade Adjusted Pace': ccc}, index=index)\n",
    "ax = gra_w.plot.bar(figsize=(18, 9), fontsize=22, rot=0)\n",
    "ax.set_ylabel('% Error', fontsize = 30)\n",
    "ax.set_xlabel('Evaluation Methods', fontsize = 30)\n",
    "ax.legend(fontsize = 24)"
   ]
  },
  {
   "cell_type": "markdown",
   "metadata": {
    "collapsed": true
   },
   "source": [
    "Grade adjusted pacing has the potential to produce better results. Imagining the race was ran\n",
    "on a flat surface would give a better indication of average pace and the ability of a runner. The\n",
    "results do not reflect this theory. It produces a higher error in each evaluation method. Why is\n",
    "this the case? Grade adjusted pace is just an estimate. The nature of the UTMB stages means\n",
    "these estimates may not be very good. Some of the stages contain many peaks and falls that\n",
    "would not be taken into account in the rise/run technique of finding the grade. The nature of\n",
    "the data gives a pace between two stage points, and the grade is found by getting the altitude\n",
    "of those stage points and calculating the grade. However, if there is a large peak or fall in the\n",
    "middle of that stage this is not considered when the gradient is found, and the pace is adjusted.\n",
    "The data set contains the stage from Chamonix to Le Delevret.\n",
    "There is no data for Les Houches pace. Therefore, the grade is calculated between the point\n",
    "of Delevret to Chamonix, without taking into account the marginal drop to Les Houches. This\n",
    "causes poor grade adjusted pace estimates, and subsequently poorer predictions.\n"
   ]
  },
  {
   "cell_type": "code",
   "execution_count": null,
   "metadata": {
    "collapsed": true
   },
   "outputs": [],
   "source": []
  }
 ],
 "metadata": {
  "kernelspec": {
   "display_name": "Python 3",
   "language": "python",
   "name": "python3"
  },
  "language_info": {
   "codemirror_mode": {
    "name": "ipython",
    "version": 3
   },
   "file_extension": ".py",
   "mimetype": "text/x-python",
   "name": "python",
   "nbconvert_exporter": "python",
   "pygments_lexer": "ipython3",
   "version": "3.6.3"
  }
 },
 "nbformat": 4,
 "nbformat_minor": 2
}
