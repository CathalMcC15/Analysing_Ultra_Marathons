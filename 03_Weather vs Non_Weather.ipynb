{
 "cells": [
  {
   "cell_type": "markdown",
   "metadata": {},
   "source": [
    "# Evaluating Orignial predictions vs Weather Weighted predictions"
   ]
  },
  {
   "cell_type": "markdown",
   "metadata": {},
   "source": [
    "Comparing weather weighted predictions made in the predictions section, with the original predictions."
   ]
  },
  {
   "cell_type": "code",
   "execution_count": 1,
   "metadata": {
    "collapsed": true
   },
   "outputs": [],
   "source": [
    "import os.path\n",
    "import datetime\n",
    "import pandas as pd\n",
    "import numpy as np\n",
    "import hashlib\n",
    "import matplotlib\n",
    "import matplotlib.pyplot as plt\n",
    "from scipy.spatial.distance import squareform, pdist\n",
    "from sklearn.metrics import mean_squared_error\n",
    "from math import sqrt\n",
    "%matplotlib inline\n",
    "\n",
    "# Display all columns in Pandas\n",
    "pd.set_option('display.max_columns', None) "
   ]
  },
  {
   "cell_type": "code",
   "execution_count": 2,
   "metadata": {
    "collapsed": true
   },
   "outputs": [],
   "source": [
    "df = pd.read_csv('../../data/weather_pace_predictions.csv', encoding = \"ISO-8859-1\")"
   ]
  },
  {
   "cell_type": "code",
   "execution_count": 3,
   "metadata": {},
   "outputs": [
    {
     "data": {
      "text/html": [
       "<div>\n",
       "<style>\n",
       "    .dataframe thead tr:only-child th {\n",
       "        text-align: right;\n",
       "    }\n",
       "\n",
       "    .dataframe thead th {\n",
       "        text-align: left;\n",
       "    }\n",
       "\n",
       "    .dataframe tbody tr th {\n",
       "        vertical-align: top;\n",
       "    }\n",
       "</style>\n",
       "<table border=\"1\" class=\"dataframe\">\n",
       "  <thead>\n",
       "    <tr style=\"text-align: right;\">\n",
       "      <th></th>\n",
       "      <th>Unnamed: 0</th>\n",
       "      <th>category</th>\n",
       "      <th>gender</th>\n",
       "      <th>query_AVG_Pace</th>\n",
       "      <th>query_pb</th>\n",
       "      <th>best_pb_prediction</th>\n",
       "      <th>mean_pb_average_pace</th>\n",
       "      <th>weighted_mean</th>\n",
       "      <th>euc_weighted_mean</th>\n",
       "    </tr>\n",
       "  </thead>\n",
       "  <tbody>\n",
       "    <tr>\n",
       "      <th>0</th>\n",
       "      <td>0</td>\n",
       "      <td>Senior Men (23-39)</td>\n",
       "      <td>Male</td>\n",
       "      <td>14.183180</td>\n",
       "      <td>13.589501</td>\n",
       "      <td>11.939618</td>\n",
       "      <td>13.268314</td>\n",
       "      <td>13.268791</td>\n",
       "      <td>13.182445</td>\n",
       "    </tr>\n",
       "    <tr>\n",
       "      <th>1</th>\n",
       "      <td>1</td>\n",
       "      <td>Senior Men (23-39)</td>\n",
       "      <td>Male</td>\n",
       "      <td>15.088612</td>\n",
       "      <td>13.589501</td>\n",
       "      <td>12.676387</td>\n",
       "      <td>14.406557</td>\n",
       "      <td>14.405696</td>\n",
       "      <td>14.389533</td>\n",
       "    </tr>\n",
       "    <tr>\n",
       "      <th>2</th>\n",
       "      <td>2</td>\n",
       "      <td>Masters Men 1 (40-49)</td>\n",
       "      <td>Male</td>\n",
       "      <td>16.802140</td>\n",
       "      <td>15.121991</td>\n",
       "      <td>14.413524</td>\n",
       "      <td>15.701139</td>\n",
       "      <td>15.701881</td>\n",
       "      <td>15.564509</td>\n",
       "    </tr>\n",
       "    <tr>\n",
       "      <th>3</th>\n",
       "      <td>3</td>\n",
       "      <td>Masters Men 1 (40-49)</td>\n",
       "      <td>Male</td>\n",
       "      <td>16.236556</td>\n",
       "      <td>16.326208</td>\n",
       "      <td>14.475365</td>\n",
       "      <td>15.200261</td>\n",
       "      <td>15.200349</td>\n",
       "      <td>14.962338</td>\n",
       "    </tr>\n",
       "    <tr>\n",
       "      <th>4</th>\n",
       "      <td>4</td>\n",
       "      <td>Senior Men (23-39)</td>\n",
       "      <td>Male</td>\n",
       "      <td>17.313847</td>\n",
       "      <td>17.965522</td>\n",
       "      <td>12.897879</td>\n",
       "      <td>15.722523</td>\n",
       "      <td>15.722237</td>\n",
       "      <td>15.716331</td>\n",
       "    </tr>\n",
       "  </tbody>\n",
       "</table>\n",
       "</div>"
      ],
      "text/plain": [
       "   Unnamed: 0               category gender  query_AVG_Pace   query_pb  \\\n",
       "0           0     Senior Men (23-39)   Male       14.183180  13.589501   \n",
       "1           1     Senior Men (23-39)   Male       15.088612  13.589501   \n",
       "2           2  Masters Men 1 (40-49)   Male       16.802140  15.121991   \n",
       "3           3  Masters Men 1 (40-49)   Male       16.236556  16.326208   \n",
       "4           4     Senior Men (23-39)   Male       17.313847  17.965522   \n",
       "\n",
       "   best_pb_prediction  mean_pb_average_pace  weighted_mean  euc_weighted_mean  \n",
       "0           11.939618             13.268314      13.268791          13.182445  \n",
       "1           12.676387             14.406557      14.405696          14.389533  \n",
       "2           14.413524             15.701139      15.701881          15.564509  \n",
       "3           14.475365             15.200261      15.200349          14.962338  \n",
       "4           12.897879             15.722523      15.722237          15.716331  "
      ]
     },
     "execution_count": 3,
     "metadata": {},
     "output_type": "execute_result"
    }
   ],
   "source": [
    "df.head()"
   ]
  },
  {
   "cell_type": "code",
   "execution_count": 4,
   "metadata": {
    "collapsed": true
   },
   "outputs": [],
   "source": [
    "df['pb_error'] = df.best_pb_prediction - df.query_pb\n",
    "df['pb_error'] = df.pb_error.abs()\n",
    "df['mean_error'] = df.mean_pb_average_pace - df.query_pb\n",
    "df['mean_error'] = df.mean_error.abs()\n",
    "df['cos_error'] = df.weighted_mean - df.query_pb\n",
    "df['cos_error'] = df.cos_error.abs()\n",
    "df['euc_error'] = df.euc_weighted_mean - df.query_pb\n",
    "df['euc_error'] = df.euc_error.abs()"
   ]
  },
  {
   "cell_type": "code",
   "execution_count": 5,
   "metadata": {
    "collapsed": true
   },
   "outputs": [],
   "source": [
    "df = df.dropna()"
   ]
  },
  {
   "cell_type": "code",
   "execution_count": 6,
   "metadata": {
    "collapsed": true
   },
   "outputs": [],
   "source": [
    "df1 = pd.read_csv('../../data/pace_predictions.csv', encoding = \"ISO-8859-1\")"
   ]
  },
  {
   "cell_type": "code",
   "execution_count": 7,
   "metadata": {},
   "outputs": [
    {
     "data": {
      "text/html": [
       "<div>\n",
       "<style>\n",
       "    .dataframe thead tr:only-child th {\n",
       "        text-align: right;\n",
       "    }\n",
       "\n",
       "    .dataframe thead th {\n",
       "        text-align: left;\n",
       "    }\n",
       "\n",
       "    .dataframe tbody tr th {\n",
       "        vertical-align: top;\n",
       "    }\n",
       "</style>\n",
       "<table border=\"1\" class=\"dataframe\">\n",
       "  <thead>\n",
       "    <tr style=\"text-align: right;\">\n",
       "      <th></th>\n",
       "      <th>Unnamed: 0</th>\n",
       "      <th>category</th>\n",
       "      <th>gender</th>\n",
       "      <th>query_AVG_Pace</th>\n",
       "      <th>query_pb</th>\n",
       "      <th>best_pb_prediction</th>\n",
       "      <th>mean_pb_average_pace</th>\n",
       "      <th>weighted_mean</th>\n",
       "      <th>euc_weighted_mean</th>\n",
       "    </tr>\n",
       "  </thead>\n",
       "  <tbody>\n",
       "    <tr>\n",
       "      <th>0</th>\n",
       "      <td>0</td>\n",
       "      <td>Senior Men (23-39)</td>\n",
       "      <td>Male</td>\n",
       "      <td>14.183180</td>\n",
       "      <td>13.489501</td>\n",
       "      <td>11.680842</td>\n",
       "      <td>13.330479</td>\n",
       "      <td>13.330815</td>\n",
       "      <td>13.089284</td>\n",
       "    </tr>\n",
       "    <tr>\n",
       "      <th>1</th>\n",
       "      <td>1</td>\n",
       "      <td>Senior Men (23-39)</td>\n",
       "      <td>Male</td>\n",
       "      <td>15.188612</td>\n",
       "      <td>13.489501</td>\n",
       "      <td>12.564133</td>\n",
       "      <td>14.455599</td>\n",
       "      <td>14.455653</td>\n",
       "      <td>14.593701</td>\n",
       "    </tr>\n",
       "    <tr>\n",
       "      <th>2</th>\n",
       "      <td>2</td>\n",
       "      <td>Senior Men (23-39)</td>\n",
       "      <td>Male</td>\n",
       "      <td>16.367387</td>\n",
       "      <td>13.945114</td>\n",
       "      <td>14.427646</td>\n",
       "      <td>15.297827</td>\n",
       "      <td>15.298082</td>\n",
       "      <td>15.796754</td>\n",
       "    </tr>\n",
       "    <tr>\n",
       "      <th>3</th>\n",
       "      <td>3</td>\n",
       "      <td>Masters Men 1 (40-49)</td>\n",
       "      <td>Male</td>\n",
       "      <td>17.602140</td>\n",
       "      <td>15.121991</td>\n",
       "      <td>14.267966</td>\n",
       "      <td>15.590489</td>\n",
       "      <td>15.591208</td>\n",
       "      <td>15.625839</td>\n",
       "    </tr>\n",
       "    <tr>\n",
       "      <th>4</th>\n",
       "      <td>4</td>\n",
       "      <td>Masters Men 1 (40-49)</td>\n",
       "      <td>Male</td>\n",
       "      <td>14.964501</td>\n",
       "      <td>13.769848</td>\n",
       "      <td>13.358058</td>\n",
       "      <td>14.010092</td>\n",
       "      <td>14.010088</td>\n",
       "      <td>13.451506</td>\n",
       "    </tr>\n",
       "  </tbody>\n",
       "</table>\n",
       "</div>"
      ],
      "text/plain": [
       "   Unnamed: 0               category gender  query_AVG_Pace   query_pb  \\\n",
       "0           0     Senior Men (23-39)   Male       14.183180  13.489501   \n",
       "1           1     Senior Men (23-39)   Male       15.188612  13.489501   \n",
       "2           2     Senior Men (23-39)   Male       16.367387  13.945114   \n",
       "3           3  Masters Men 1 (40-49)   Male       17.602140  15.121991   \n",
       "4           4  Masters Men 1 (40-49)   Male       14.964501  13.769848   \n",
       "\n",
       "   best_pb_prediction  mean_pb_average_pace  weighted_mean  euc_weighted_mean  \n",
       "0           11.680842             13.330479      13.330815          13.089284  \n",
       "1           12.564133             14.455599      14.455653          14.593701  \n",
       "2           14.427646             15.297827      15.298082          15.796754  \n",
       "3           14.267966             15.590489      15.591208          15.625839  \n",
       "4           13.358058             14.010092      14.010088          13.451506  "
      ]
     },
     "execution_count": 7,
     "metadata": {},
     "output_type": "execute_result"
    }
   ],
   "source": [
    "df1.head()"
   ]
  },
  {
   "cell_type": "code",
   "execution_count": 8,
   "metadata": {
    "collapsed": true
   },
   "outputs": [],
   "source": [
    "df1['pb_error'] = df1.best_pb_prediction - df1.query_pb\n",
    "df1['pb_error'] = df1.pb_error.abs()\n",
    "df1['mean_error'] = df1.mean_pb_average_pace - df1.query_pb\n",
    "df1['mean_error'] = df1.mean_error.abs()\n",
    "df1['cos_error'] = df1.weighted_mean - df1.query_pb\n",
    "df1['cos_error'] = df1.cos_error.abs()\n",
    "df1['euc_error'] = df1.euc_weighted_mean - df1.query_pb\n",
    "df1['euc_error'] = df1.euc_error.abs()"
   ]
  },
  {
   "cell_type": "code",
   "execution_count": 9,
   "metadata": {
    "collapsed": true
   },
   "outputs": [],
   "source": [
    "df1 = df1.dropna()"
   ]
  },
  {
   "cell_type": "code",
   "execution_count": 10,
   "metadata": {},
   "outputs": [
    {
     "name": "stdout",
     "output_type": "stream",
     "text": [
      "WW Fastest Case Error: 1.7388443489693393\n",
      "WW Mean of Cases Error: 1.1285620229556508\n",
      "WW Weighted Mean: 1.1284078179878558\n",
      "WW Euclidean Weighted Mean: 1.12227049171231\n"
     ]
    }
   ],
   "source": [
    "\n",
    "abestpb = sqrt(mean_squared_error(df.query_pb, df.best_pb_prediction))\n",
    "ameanpb = sqrt(mean_squared_error(df.query_pb, df.mean_pb_average_pace))\n",
    "aweightpb = sqrt(mean_squared_error(df.query_pb, df.weighted_mean))\n",
    "aeucpb = sqrt(mean_squared_error(df.query_pb, df.euc_weighted_mean))\n",
    "\n",
    "print('WW Fastest Case Error:', abestpb)\n",
    "print('WW Mean of Cases Error:', ameanpb)\n",
    "print('WW Weighted Mean:', aweightpb)\n",
    "print('WW Euclidean Weighted Mean:', aeucpb)"
   ]
  },
  {
   "cell_type": "code",
   "execution_count": 11,
   "metadata": {},
   "outputs": [
    {
     "name": "stdout",
     "output_type": "stream",
     "text": [
      "Fastest Case Error: 1.859556323248879\n",
      "Mean of Cases Error: 1.2705799879828616\n",
      "Weighted Mean: 1.270590388962552\n",
      "Euclidean Weighted Mean: 1.2440844666270396\n"
     ]
    }
   ],
   "source": [
    "abestpb1 = sqrt(mean_squared_error(df1.query_pb, df1.best_pb_prediction))\n",
    "ameanpb1 = sqrt(mean_squared_error(df1.query_pb, df1.mean_pb_average_pace))\n",
    "aweightpb1 = sqrt(mean_squared_error(df1.query_pb, df1.weighted_mean))\n",
    "aeucpb1 = sqrt(mean_squared_error(df1.query_pb, df1.euc_weighted_mean))\n",
    "\n",
    "print('Fastest Case Error:', abestpb1)\n",
    "print('Mean of Cases Error:', ameanpb1)\n",
    "print('Weighted Mean:', aweightpb1)\n",
    "print('Euclidean Weighted Mean:', aeucpb1)"
   ]
  },
  {
   "cell_type": "code",
   "execution_count": 12,
   "metadata": {
    "collapsed": true
   },
   "outputs": [],
   "source": [
    "mean = [ameanpb, ameanpb1 ]\n",
    "best = [abestpb, abestpb1]\n",
    "w_mean = [aweightpb, aweightpb1]\n",
    "euc_mean =[aeucpb, aeucpb1]"
   ]
  },
  {
   "cell_type": "code",
   "execution_count": 13,
   "metadata": {
    "collapsed": true
   },
   "outputs": [],
   "source": [
    "original = [ameanpb1, abestpb1, aweightpb1, aeucpb1]\n",
    "weather = [ameanpb, abestpb, aweightpb, aeucpb]"
   ]
  },
  {
   "cell_type": "code",
   "execution_count": 14,
   "metadata": {},
   "outputs": [
    {
     "data": {
      "text/plain": [
       "<matplotlib.legend.Legend at 0x277b46031d0>"
      ]
     },
     "execution_count": 14,
     "metadata": {},
     "output_type": "execute_result"
    },
    {
     "data": {
      "image/png": "[encoded data removed]",
      "text/plain": [
       "<matplotlib.figure.Figure at 0x277b46030f0>"
      ]
     },
     "metadata": {},
     "output_type": "display_data"
    }
   ],
   "source": [
    "index = ['Mean of Cases Error', 'Fastest Case Error', 'Weighted Mean Error', 'Euc. Weighted Mean Error']\n",
    "gra_w = pd.DataFrame({'Original': original, 'Weather Weighted': weather}, index=index)\n",
    "ax = gra_w.plot.bar(figsize=(18, 9), fontsize=18, rot=0)\n",
    "ax.set_ylabel('RMS Error', fontsize = 24)\n",
    "ax.set_xlabel('Evaluators', fontsize = 24)\n",
    "ax.legend(fontsize = 20)"
   ]
  },
  {
   "cell_type": "markdown",
   "metadata": {
    "collapsed": true
   },
   "source": [
    "### Percentage"
   ]
  },
  {
   "cell_type": "code",
   "execution_count": 15,
   "metadata": {},
   "outputs": [
    {
     "name": "stdout",
     "output_type": "stream",
     "text": [
      "Fastest Case Percentage:  9.725820029732732\n",
      "Mean of Cases Percentage:  6.478258829197722\n",
      "Cosine Mean %: 6.476191045871667\n",
      "Euclidean Mean %:  6.387971848673327\n"
     ]
    }
   ],
   "source": [
    "wabestper = ((df.pb_error / df.query_pb) * 100).mean()\n",
    "wameanper = ((df.mean_error / df.query_pb) * 100).mean()\n",
    "wacosper = ((df.cos_error / df.query_pb) * 100).mean()\n",
    "waeucper = ((df.euc_error / df.query_pb) * 100).mean()\n",
    "\n",
    "print('Fastest Case Percentage: ', wabestper)\n",
    "print('Mean of Cases Percentage: ',  wameanper)\n",
    "print('Cosine Mean %:',  wacosper)\n",
    "print('Euclidean Mean %: ', waeucper)"
   ]
  },
  {
   "cell_type": "code",
   "execution_count": 16,
   "metadata": {},
   "outputs": [
    {
     "name": "stdout",
     "output_type": "stream",
     "text": [
      "Fastest Case Percentage:  9.864390074446712\n",
      "Mean of Cases Percentage:  6.946618220570911\n",
      "Cosine Mean %: 6.945719489183475\n",
      "Euclidean Mean %:  6.725855221333613\n"
     ]
    }
   ],
   "source": [
    "abestper = ((df1.pb_error / df1.query_pb) * 100).mean()\n",
    "ameanper = ((df1.mean_error / df1.query_pb) * 100).mean()\n",
    "acosper = ((df1.cos_error / df1.query_pb) * 100).mean()\n",
    "aeucper = ((df1.euc_error / df1.query_pb) * 100).mean()\n",
    "\n",
    "print('Fastest Case Percentage: ', abestper)\n",
    "print('Mean of Cases Percentage: ',  ameanper)\n",
    "print('Cosine Mean %:',  acosper)\n",
    "print('Euclidean Mean %: ', aeucper)"
   ]
  },
  {
   "cell_type": "code",
   "execution_count": 17,
   "metadata": {},
   "outputs": [
    {
     "data": {
      "text/plain": [
       "0.1385700447139797"
      ]
     },
     "execution_count": 17,
     "metadata": {},
     "output_type": "execute_result"
    }
   ],
   "source": [
    "abestper - wabestper"
   ]
  },
  {
   "cell_type": "code",
   "execution_count": 18,
   "metadata": {},
   "outputs": [
    {
     "data": {
      "text/plain": [
       "0.4683593913731885"
      ]
     },
     "execution_count": 18,
     "metadata": {},
     "output_type": "execute_result"
    }
   ],
   "source": [
    "ameanper - wameanper"
   ]
  },
  {
   "cell_type": "code",
   "execution_count": 19,
   "metadata": {},
   "outputs": [
    {
     "data": {
      "text/plain": [
       "0.4695284433118072"
      ]
     },
     "execution_count": 19,
     "metadata": {},
     "output_type": "execute_result"
    }
   ],
   "source": [
    "acosper - wacosper"
   ]
  },
  {
   "cell_type": "code",
   "execution_count": 20,
   "metadata": {},
   "outputs": [
    {
     "data": {
      "text/plain": [
       "0.33788337266028634"
      ]
     },
     "execution_count": 20,
     "metadata": {},
     "output_type": "execute_result"
    }
   ],
   "source": [
    "aeucper - waeucper"
   ]
  },
  {
   "cell_type": "code",
   "execution_count": 21,
   "metadata": {
    "collapsed": true
   },
   "outputs": [],
   "source": [
    "original1 = [ameanper, abestper, acosper, aeucper]\n",
    "weather1 = [wameanper, wabestper, wacosper, waeucper]"
   ]
  },
  {
   "cell_type": "code",
   "execution_count": 22,
   "metadata": {},
   "outputs": [
    {
     "data": {
      "text/plain": [
       "<matplotlib.legend.Legend at 0x277b45c1470>"
      ]
     },
     "execution_count": 22,
     "metadata": {},
     "output_type": "execute_result"
    },
    {
     "data": {
      "image/png": "[encoded data removed]",
      "text/plain": [
       "<matplotlib.figure.Figure at 0x277b45c1fd0>"
      ]
     },
     "metadata": {},
     "output_type": "display_data"
    }
   ],
   "source": [
    "index = ['Mean of Cases Error', 'Fastest Case Error', 'Cos. Wei. Mean Error', 'Euc. Wei. Mean Error']\n",
    "gra_w = pd.DataFrame({'Original': original1, 'Weather Weighted': weather1}, index=index)\n",
    "ax = gra_w.plot.bar(figsize=(18, 9), fontsize=22, rot=0)\n",
    "ax.set_ylabel('% Error', fontsize = 30)\n",
    "ax.set_xlabel('Evaluation Methods', fontsize = 30)\n",
    "ax.legend(fontsize = 24)"
   ]
  },
  {
   "cell_type": "markdown",
   "metadata": {},
   "source": [
    "As mentioned in section 4.1.3, the average pace was weighted according to the mean degrees\n",
    "Celsius temperature on the day of the race.\n",
    "Under each evaluation method, the weather weighted average pace prediction has produced a\n",
    "better result than the original predictions. The difference between the mean errors is almost half\n",
    "a percent. Using a working example, for a a runner with 10 minute per kilometre pace, the original\n",
    "prediction would have been around 9.3 minutes per kilometre. The weather weighted prediction\n",
    "would have been around 9.35 minutes per kilometre. These are very encouraging results\n"
   ]
  },
  {
   "cell_type": "markdown",
   "metadata": {
    "collapsed": true
   },
   "source": [
    "# Western States Weather"
   ]
  },
  {
   "cell_type": "markdown",
   "metadata": {},
   "source": [
    "Same method for Western States..."
   ]
  },
  {
   "cell_type": "code",
   "execution_count": 23,
   "metadata": {
    "collapsed": true
   },
   "outputs": [],
   "source": [
    "df = pd.read_csv('../../data/wea_ws_pace_predictions.csv', encoding = \"ISO-8859-1\")"
   ]
  },
  {
   "cell_type": "code",
   "execution_count": 24,
   "metadata": {},
   "outputs": [
    {
     "data": {
      "text/html": [
       "<div>\n",
       "<style>\n",
       "    .dataframe thead tr:only-child th {\n",
       "        text-align: right;\n",
       "    }\n",
       "\n",
       "    .dataframe thead th {\n",
       "        text-align: left;\n",
       "    }\n",
       "\n",
       "    .dataframe tbody tr th {\n",
       "        vertical-align: top;\n",
       "    }\n",
       "</style>\n",
       "<table border=\"1\" class=\"dataframe\">\n",
       "  <thead>\n",
       "    <tr style=\"text-align: right;\">\n",
       "      <th></th>\n",
       "      <th>Unnamed: 0</th>\n",
       "      <th>category</th>\n",
       "      <th>gender</th>\n",
       "      <th>query_AVG_Pace</th>\n",
       "      <th>query_pb</th>\n",
       "      <th>best_pb_prediction</th>\n",
       "      <th>mean_pb_average_pace</th>\n",
       "      <th>weighted_mean</th>\n",
       "      <th>euc_weighted_mean</th>\n",
       "    </tr>\n",
       "  </thead>\n",
       "  <tbody>\n",
       "    <tr>\n",
       "      <th>0</th>\n",
       "      <td>0</td>\n",
       "      <td>Masters Men 1 (40-49)</td>\n",
       "      <td>Male</td>\n",
       "      <td>11.804720</td>\n",
       "      <td>10.505747</td>\n",
       "      <td>9.740745</td>\n",
       "      <td>11.254935</td>\n",
       "      <td>11.253518</td>\n",
       "      <td>10.769839</td>\n",
       "    </tr>\n",
       "    <tr>\n",
       "      <th>1</th>\n",
       "      <td>1</td>\n",
       "      <td>Masters Men 1 (40-49)</td>\n",
       "      <td>Male</td>\n",
       "      <td>12.242579</td>\n",
       "      <td>9.251986</td>\n",
       "      <td>9.547084</td>\n",
       "      <td>10.802511</td>\n",
       "      <td>10.789664</td>\n",
       "      <td>10.484158</td>\n",
       "    </tr>\n",
       "    <tr>\n",
       "      <th>2</th>\n",
       "      <td>2</td>\n",
       "      <td>Masters Men 2 (50-59)</td>\n",
       "      <td>Male</td>\n",
       "      <td>10.913974</td>\n",
       "      <td>13.759780</td>\n",
       "      <td>9.450123</td>\n",
       "      <td>11.058064</td>\n",
       "      <td>11.058902</td>\n",
       "      <td>11.051297</td>\n",
       "    </tr>\n",
       "    <tr>\n",
       "      <th>3</th>\n",
       "      <td>3</td>\n",
       "      <td>Masters Men 2 (50-59)</td>\n",
       "      <td>Male</td>\n",
       "      <td>11.844286</td>\n",
       "      <td>11.503364</td>\n",
       "      <td>9.773393</td>\n",
       "      <td>11.124727</td>\n",
       "      <td>11.124374</td>\n",
       "      <td>11.236092</td>\n",
       "    </tr>\n",
       "    <tr>\n",
       "      <th>4</th>\n",
       "      <td>4</td>\n",
       "      <td>Senior Women (23-39)</td>\n",
       "      <td>Female</td>\n",
       "      <td>9.080386</td>\n",
       "      <td>9.710111</td>\n",
       "      <td>8.560169</td>\n",
       "      <td>8.348444</td>\n",
       "      <td>8.345238</td>\n",
       "      <td>8.338878</td>\n",
       "    </tr>\n",
       "  </tbody>\n",
       "</table>\n",
       "</div>"
      ],
      "text/plain": [
       "   Unnamed: 0               category  gender  query_AVG_Pace   query_pb  \\\n",
       "0           0  Masters Men 1 (40-49)    Male       11.804720  10.505747   \n",
       "1           1  Masters Men 1 (40-49)    Male       12.242579   9.251986   \n",
       "2           2  Masters Men 2 (50-59)    Male       10.913974  13.759780   \n",
       "3           3  Masters Men 2 (50-59)    Male       11.844286  11.503364   \n",
       "4           4   Senior Women (23-39)  Female        9.080386   9.710111   \n",
       "\n",
       "   best_pb_prediction  mean_pb_average_pace  weighted_mean  euc_weighted_mean  \n",
       "0            9.740745             11.254935      11.253518          10.769839  \n",
       "1            9.547084             10.802511      10.789664          10.484158  \n",
       "2            9.450123             11.058064      11.058902          11.051297  \n",
       "3            9.773393             11.124727      11.124374          11.236092  \n",
       "4            8.560169              8.348444       8.345238           8.338878  "
      ]
     },
     "execution_count": 24,
     "metadata": {},
     "output_type": "execute_result"
    }
   ],
   "source": [
    "df.head()"
   ]
  },
  {
   "cell_type": "code",
   "execution_count": 25,
   "metadata": {
    "collapsed": true
   },
   "outputs": [],
   "source": [
    "df['pb_error'] = df.best_pb_prediction - df.query_pb\n",
    "df['pb_error'] = df.pb_error.abs()\n",
    "df['mean_error'] = df.mean_pb_average_pace - df.query_pb\n",
    "df['mean_error'] = df.mean_error.abs()\n",
    "df['cos_error'] = df.weighted_mean - df.query_pb\n",
    "df['cos_error'] = df.cos_error.abs()\n",
    "df['euc_error'] = df.euc_weighted_mean - df.query_pb\n",
    "df['euc_error'] = df.euc_error.abs()"
   ]
  },
  {
   "cell_type": "code",
   "execution_count": 26,
   "metadata": {
    "collapsed": true
   },
   "outputs": [],
   "source": [
    "df = df.dropna()"
   ]
  },
  {
   "cell_type": "code",
   "execution_count": 27,
   "metadata": {
    "collapsed": true
   },
   "outputs": [],
   "source": [
    "df1 = pd.read_csv('../../data/ws_pace_predictions.csv', encoding = \"ISO-8859-1\")"
   ]
  },
  {
   "cell_type": "code",
   "execution_count": 28,
   "metadata": {},
   "outputs": [
    {
     "data": {
      "text/html": [
       "<div>\n",
       "<style>\n",
       "    .dataframe thead tr:only-child th {\n",
       "        text-align: right;\n",
       "    }\n",
       "\n",
       "    .dataframe thead th {\n",
       "        text-align: left;\n",
       "    }\n",
       "\n",
       "    .dataframe tbody tr th {\n",
       "        vertical-align: top;\n",
       "    }\n",
       "</style>\n",
       "<table border=\"1\" class=\"dataframe\">\n",
       "  <thead>\n",
       "    <tr style=\"text-align: right;\">\n",
       "      <th></th>\n",
       "      <th>Unnamed: 0</th>\n",
       "      <th>category</th>\n",
       "      <th>gender</th>\n",
       "      <th>query_AVG_Pace</th>\n",
       "      <th>query_pb</th>\n",
       "      <th>best_pb_prediction</th>\n",
       "      <th>mean_pb_average_pace</th>\n",
       "      <th>weighted_mean</th>\n",
       "      <th>euc_weighted_mean</th>\n",
       "    </tr>\n",
       "  </thead>\n",
       "  <tbody>\n",
       "    <tr>\n",
       "      <th>0</th>\n",
       "      <td>0</td>\n",
       "      <td>Masters Men 1 (40-49)</td>\n",
       "      <td>Male</td>\n",
       "      <td>11.804720</td>\n",
       "      <td>10.605747</td>\n",
       "      <td>9.668829</td>\n",
       "      <td>10.744975</td>\n",
       "      <td>10.744982</td>\n",
       "      <td>10.741196</td>\n",
       "    </tr>\n",
       "    <tr>\n",
       "      <th>1</th>\n",
       "      <td>1</td>\n",
       "      <td>Masters Men 1 (40-49)</td>\n",
       "      <td>Male</td>\n",
       "      <td>12.242579</td>\n",
       "      <td>9.051986</td>\n",
       "      <td>9.301479</td>\n",
       "      <td>10.748605</td>\n",
       "      <td>10.737365</td>\n",
       "      <td>10.455589</td>\n",
       "    </tr>\n",
       "    <tr>\n",
       "      <th>2</th>\n",
       "      <td>2</td>\n",
       "      <td>Masters Men 2 (50-59)</td>\n",
       "      <td>Male</td>\n",
       "      <td>10.913974</td>\n",
       "      <td>13.559780</td>\n",
       "      <td>9.043635</td>\n",
       "      <td>11.401750</td>\n",
       "      <td>11.402140</td>\n",
       "      <td>11.241669</td>\n",
       "    </tr>\n",
       "    <tr>\n",
       "      <th>3</th>\n",
       "      <td>3</td>\n",
       "      <td>Masters Men 2 (50-59)</td>\n",
       "      <td>Male</td>\n",
       "      <td>11.844286</td>\n",
       "      <td>11.303364</td>\n",
       "      <td>9.881917</td>\n",
       "      <td>11.274727</td>\n",
       "      <td>11.274394</td>\n",
       "      <td>11.425228</td>\n",
       "    </tr>\n",
       "    <tr>\n",
       "      <th>4</th>\n",
       "      <td>4</td>\n",
       "      <td>Senior Women (23-39)</td>\n",
       "      <td>Female</td>\n",
       "      <td>9.080386</td>\n",
       "      <td>9.710111</td>\n",
       "      <td>9.063317</td>\n",
       "      <td>8.450547</td>\n",
       "      <td>8.448198</td>\n",
       "      <td>8.442814</td>\n",
       "    </tr>\n",
       "  </tbody>\n",
       "</table>\n",
       "</div>"
      ],
      "text/plain": [
       "   Unnamed: 0               category  gender  query_AVG_Pace   query_pb  \\\n",
       "0           0  Masters Men 1 (40-49)    Male       11.804720  10.605747   \n",
       "1           1  Masters Men 1 (40-49)    Male       12.242579   9.051986   \n",
       "2           2  Masters Men 2 (50-59)    Male       10.913974  13.559780   \n",
       "3           3  Masters Men 2 (50-59)    Male       11.844286  11.303364   \n",
       "4           4   Senior Women (23-39)  Female        9.080386   9.710111   \n",
       "\n",
       "   best_pb_prediction  mean_pb_average_pace  weighted_mean  euc_weighted_mean  \n",
       "0            9.668829             10.744975      10.744982          10.741196  \n",
       "1            9.301479             10.748605      10.737365          10.455589  \n",
       "2            9.043635             11.401750      11.402140          11.241669  \n",
       "3            9.881917             11.274727      11.274394          11.425228  \n",
       "4            9.063317              8.450547       8.448198           8.442814  "
      ]
     },
     "execution_count": 28,
     "metadata": {},
     "output_type": "execute_result"
    }
   ],
   "source": [
    "df1.head()"
   ]
  },
  {
   "cell_type": "code",
   "execution_count": 29,
   "metadata": {
    "collapsed": true
   },
   "outputs": [],
   "source": [
    "df1['pb_error'] = df1.best_pb_prediction - df1.query_pb\n",
    "df1['pb_error'] = df1.pb_error.abs()\n",
    "df1['mean_error'] = df1.mean_pb_average_pace - df1.query_pb\n",
    "df1['mean_error'] = df1.mean_error.abs()\n",
    "df1['cos_error'] = df1.weighted_mean - df1.query_pb\n",
    "df1['cos_error'] = df1.cos_error.abs()\n",
    "df1['euc_error'] = df1.euc_weighted_mean - df1.query_pb\n",
    "df1['euc_error'] = df1.euc_error.abs()"
   ]
  },
  {
   "cell_type": "code",
   "execution_count": 30,
   "metadata": {
    "collapsed": true
   },
   "outputs": [],
   "source": [
    "df1 = df1.dropna()"
   ]
  },
  {
   "cell_type": "code",
   "execution_count": 31,
   "metadata": {},
   "outputs": [
    {
     "name": "stdout",
     "output_type": "stream",
     "text": [
      "WW Fastest Case Error: 1.4709964892673915\n",
      "WW Mean of Cases Error: 1.0962011603968358\n",
      "WW Weighted Mean: 1.0944130340639013\n",
      "WW Euclidean Weighted Mean: 1.0998692934580283\n"
     ]
    }
   ],
   "source": [
    "\n",
    "abestpb = sqrt(mean_squared_error(df.query_pb, df.best_pb_prediction))\n",
    "ameanpb = sqrt(mean_squared_error(df.query_pb, df.mean_pb_average_pace))\n",
    "aweightpb = sqrt(mean_squared_error(df.query_pb, df.weighted_mean))\n",
    "aeucpb = sqrt(mean_squared_error(df.query_pb, df.euc_weighted_mean))\n",
    "\n",
    "print('WW Fastest Case Error:', abestpb)\n",
    "print('WW Mean of Cases Error:', ameanpb)\n",
    "print('WW Weighted Mean:', aweightpb)\n",
    "print('WW Euclidean Weighted Mean:', aeucpb)"
   ]
  },
  {
   "cell_type": "code",
   "execution_count": 32,
   "metadata": {},
   "outputs": [
    {
     "name": "stdout",
     "output_type": "stream",
     "text": [
      "Fastest Case Error: 1.4780436098708476\n",
      "Mean of Cases Error: 1.0993162887031076\n",
      "Weighted Mean: 1.0979853561678345\n",
      "Euclidean Weighted Mean: 1.0849450506024692\n"
     ]
    }
   ],
   "source": [
    "abestpb1 = sqrt(mean_squared_error(df1.query_pb, df1.best_pb_prediction))\n",
    "ameanpb1 = sqrt(mean_squared_error(df1.query_pb, df1.mean_pb_average_pace))\n",
    "aweightpb1 = sqrt(mean_squared_error(df1.query_pb, df1.weighted_mean))\n",
    "aeucpb1 = sqrt(mean_squared_error(df1.query_pb, df1.euc_weighted_mean))\n",
    "\n",
    "print('Fastest Case Error:', abestpb1)\n",
    "print('Mean of Cases Error:', ameanpb1)\n",
    "print('Weighted Mean:', aweightpb1)\n",
    "print('Euclidean Weighted Mean:', aeucpb1)"
   ]
  },
  {
   "cell_type": "code",
   "execution_count": 33,
   "metadata": {
    "collapsed": true
   },
   "outputs": [],
   "source": [
    "mean = [ameanpb, ameanpb1 ]\n",
    "best = [abestpb, abestpb1]\n",
    "w_mean = [aweightpb, aweightpb1]\n",
    "euc_mean =[aeucpb, aeucpb1]"
   ]
  },
  {
   "cell_type": "code",
   "execution_count": 34,
   "metadata": {
    "collapsed": true
   },
   "outputs": [],
   "source": [
    "original = [ameanpb1, abestpb1, aweightpb1, aeucpb1]\n",
    "weather = [ameanpb, abestpb, aweightpb, aeucpb]"
   ]
  },
  {
   "cell_type": "code",
   "execution_count": 35,
   "metadata": {},
   "outputs": [
    {
     "data": {
      "text/plain": [
       "<matplotlib.legend.Legend at 0x277b45c1860>"
      ]
     },
     "execution_count": 35,
     "metadata": {},
     "output_type": "execute_result"
    },
    {
     "data": {
      "image/png": "[encoded data removed]",
      "text/plain": [
       "<matplotlib.figure.Figure at 0x277b48c4048>"
      ]
     },
     "metadata": {},
     "output_type": "display_data"
    }
   ],
   "source": [
    "index = ['Mean of Cases Error', 'Fastest Case Error', 'Weighted Mean Error', 'Euc. Weighted Mean Error']\n",
    "gra_w = pd.DataFrame({'Original': original, 'Weather Weighted': weather}, index=index)\n",
    "ax = gra_w.plot.bar(figsize=(18, 9), fontsize=18, rot=0)\n",
    "ax.set_ylabel('RMS Error', fontsize = 24)\n",
    "ax.set_xlabel('Evaluators', fontsize = 24)\n",
    "ax.legend(fontsize = 20)"
   ]
  },
  {
   "cell_type": "markdown",
   "metadata": {
    "collapsed": true
   },
   "source": [
    "### Percentage"
   ]
  },
  {
   "cell_type": "code",
   "execution_count": 36,
   "metadata": {},
   "outputs": [
    {
     "name": "stdout",
     "output_type": "stream",
     "text": [
      "Fastest Case Percentage:  11.291276260193763\n",
      "Mean of Cases Percentage:  9.266204024849069\n",
      "Cosine Mean %: 9.249742557769844\n",
      "Euclidean Mean %:  9.229520908241613\n"
     ]
    }
   ],
   "source": [
    "wabestper = ((df.pb_error / df.query_pb) * 100).mean()\n",
    "wameanper = ((df.mean_error / df.query_pb) * 100).mean()\n",
    "wacosper = ((df.cos_error / df.query_pb) * 100).mean()\n",
    "waeucper = ((df.euc_error / df.query_pb) * 100).mean()\n",
    "\n",
    "print('Fastest Case Percentage: ', wabestper)\n",
    "print('Mean of Cases Percentage: ',  wameanper)\n",
    "print('Cosine Mean %:',  wacosper)\n",
    "print('Euclidean Mean %: ', waeucper)"
   ]
  },
  {
   "cell_type": "code",
   "execution_count": 37,
   "metadata": {},
   "outputs": [
    {
     "name": "stdout",
     "output_type": "stream",
     "text": [
      "Fastest Case Percentage:  11.444261165925372\n",
      "Mean of Cases Percentage:  9.201500417984496\n",
      "Cosine Mean %: 9.190575338058396\n",
      "Euclidean Mean %:  9.155469352672926\n"
     ]
    }
   ],
   "source": [
    "abestper = ((df1.pb_error / df1.query_pb) * 100).mean()\n",
    "ameanper = ((df1.mean_error / df1.query_pb) * 100).mean()\n",
    "acosper = ((df1.cos_error / df1.query_pb) * 100).mean()\n",
    "aeucper = ((df1.euc_error / df1.query_pb) * 100).mean()\n",
    "\n",
    "print('Fastest Case Percentage: ', abestper)\n",
    "print('Mean of Cases Percentage: ',  ameanper)\n",
    "print('Cosine Mean %:',  acosper)\n",
    "print('Euclidean Mean %: ', aeucper)"
   ]
  },
  {
   "cell_type": "code",
   "execution_count": 38,
   "metadata": {
    "collapsed": true
   },
   "outputs": [],
   "source": [
    "original1 = [ameanper, abestper, acosper, aeucper]\n",
    "weather1 = [wameanper, wabestper, wacosper, waeucper]"
   ]
  },
  {
   "cell_type": "code",
   "execution_count": 39,
   "metadata": {},
   "outputs": [
    {
     "data": {
      "text/plain": [
       "<matplotlib.legend.Legend at 0x277b49ea470>"
      ]
     },
     "execution_count": 39,
     "metadata": {},
     "output_type": "execute_result"
    },
    {
     "data": {
      "image/png": "[encoded data removed]",
      "text/plain": [
       "<matplotlib.figure.Figure at 0x277b49ea6d8>"
      ]
     },
     "metadata": {},
     "output_type": "display_data"
    }
   ],
   "source": [
    "index = ['Mean of Cases Error', 'Fastest Case Error', 'Cos. Wei. Mean Error', 'Euc. Wei. Mean Error']\n",
    "gra_w = pd.DataFrame({'Original': original1, 'Weather Weighted': weather1}, index=index)\n",
    "ax = gra_w.plot.bar(figsize=(18, 9), fontsize=22, rot=0)\n",
    "ax.set_ylabel('% Error', fontsize = 30)\n",
    "ax.set_xlabel('Evaluation Methods', fontsize = 30)\n",
    "ax.legend(fontsize = 24)"
   ]
  },
  {
   "cell_type": "markdown",
   "metadata": {
    "collapsed": true
   },
   "source": [
    "It is important to investigate whether these predictions are unique to the UTMB. The same model\n",
    "was used to predict average pace for the Western States, i.e. Historical non PB Western States\n",
    "average paces were used to predict a PB average pace for Western States.\n",
    "There is a very similar trend to the UTMB predictions. The predictions for females is considerably\n",
    "lower for each error metric. For males, the errors are just under 12% for fastest case and under\n",
    "10% for mean of cases error. In comparison, the fastest case error for females is under 9% and\n",
    "mean of cases error is under 8%. This is very encouraging for female runners, as the ratio of\n",
    "females to males is far higher here than in the UTMB, as seen in Figure 3.9. In terms of the\n",
    "mean of cases error, euclidean weighted mean produces the best result.\n"
   ]
  },
  {
   "cell_type": "code",
   "execution_count": null,
   "metadata": {
    "collapsed": true
   },
   "outputs": [],
   "source": []
  }
 ],
 "metadata": {
  "kernelspec": {
   "display_name": "Python 3",
   "language": "python",
   "name": "python3"
  },
  "language_info": {
   "codemirror_mode": {
    "name": "ipython",
    "version": 3
   },
   "file_extension": ".py",
   "mimetype": "text/x-python",
   "name": "python",
   "nbconvert_exporter": "python",
   "pygments_lexer": "ipython3",
   "version": "3.6.3"
  }
 },
 "nbformat": 4,
 "nbformat_minor": 2
}
