{
 "cells": [
  {
   "cell_type": "markdown",
   "metadata": {},
   "source": [
    "# UTMB Distance Check"
   ]
  },
  {
   "cell_type": "markdown",
   "metadata": {},
   "source": [
    "This notebooks tests whether the distances of the individual stages add up to the actual distances. \n",
    "Actual distances: \n",
    "- 2004: 155km\n",
    "- 2005: 155km\n",
    "- 2006: 158km\n",
    "- 2007: 163km\n",
    "- 2008: 166km\n",
    "- 2009: 166km\n",
    "- 2011: 170km\n",
    "- 2013: 168km\n",
    "- 2014: 167km\n",
    "- 2015: 170km\n",
    "- 2016: 170km\n",
    "- 2017: 167km"
   ]
  },
  {
   "cell_type": "code",
   "execution_count": 1,
   "metadata": {
    "collapsed": true
   },
   "outputs": [],
   "source": [
    "import os.path\n",
    "import datetime\n",
    "import pandas as pd\n",
    "import numpy as np\n",
    "import hashlib\n",
    "import matplotlib\n",
    "import matplotlib.pyplot as plt\n",
    "%matplotlib inline"
   ]
  },
  {
   "cell_type": "code",
   "execution_count": 2,
   "metadata": {
    "collapsed": true
   },
   "outputs": [],
   "source": [
    "if not os.path.exists( \"../../raw/course.csv\" ):\n",
    "    print(\"Missing dataset file\")\n",
    "\n",
    "df = pd.read_csv( \"../../raw/course.csv\")"
   ]
  },
  {
   "cell_type": "code",
   "execution_count": 3,
   "metadata": {},
   "outputs": [
    {
     "data": {
      "text/html": [
       "<div>\n",
       "<style>\n",
       "    .dataframe thead tr:only-child th {\n",
       "        text-align: right;\n",
       "    }\n",
       "\n",
       "    .dataframe thead th {\n",
       "        text-align: left;\n",
       "    }\n",
       "\n",
       "    .dataframe tbody tr th {\n",
       "        vertical-align: top;\n",
       "    }\n",
       "</style>\n",
       "<table border=\"1\" class=\"dataframe\">\n",
       "  <thead>\n",
       "    <tr style=\"text-align: right;\">\n",
       "      <th></th>\n",
       "      <th>Chamonix to Delevret</th>\n",
       "      <th>Chamonix to Col de Voza</th>\n",
       "      <th>Chamonix to La Charme</th>\n",
       "      <th>Chamonix to St-Gervais</th>\n",
       "      <th>Delevret to St-Gervais</th>\n",
       "      <th>Col de Voza to Contamines</th>\n",
       "      <th>La Charme to St-Gervais</th>\n",
       "      <th>St-Gervais to Contamines</th>\n",
       "      <th>Contamines to La Balme</th>\n",
       "      <th>Contamines to Bonhomme</th>\n",
       "      <th>...</th>\n",
       "      <th>Les Tseppe to Vallorcine</th>\n",
       "      <th>Vallorcine to La Gardes</th>\n",
       "      <th>Vallorcine to Tete aux Vents</th>\n",
       "      <th>Vallorcine to Argentiere</th>\n",
       "      <th>Vallorcine to Col Montet</th>\n",
       "      <th>La Gardes to Chamonix</th>\n",
       "      <th>Tete aux Vents to Flegere</th>\n",
       "      <th>Argentiere to Chamonix</th>\n",
       "      <th>Col Montet to Flegere</th>\n",
       "      <th>Flegere to Chamonix</th>\n",
       "    </tr>\n",
       "  </thead>\n",
       "  <tbody>\n",
       "    <tr>\n",
       "      <th>0</th>\n",
       "      <td>13.6</td>\n",
       "      <td>11.8</td>\n",
       "      <td>15.4</td>\n",
       "      <td>22.7</td>\n",
       "      <td>13</td>\n",
       "      <td>10.8</td>\n",
       "      <td>6.2</td>\n",
       "      <td>10.3</td>\n",
       "      <td>8.1</td>\n",
       "      <td>13.4</td>\n",
       "      <td>...</td>\n",
       "      <td>7.2</td>\n",
       "      <td>8</td>\n",
       "      <td>7.7</td>\n",
       "      <td>6.3</td>\n",
       "      <td>3.8</td>\n",
       "      <td>7</td>\n",
       "      <td>3.6</td>\n",
       "      <td>8.7</td>\n",
       "      <td>7.5</td>\n",
       "      <td>7.3</td>\n",
       "    </tr>\n",
       "  </tbody>\n",
       "</table>\n",
       "<p>1 rows × 61 columns</p>\n",
       "</div>"
      ],
      "text/plain": [
       "   Chamonix to Delevret  Chamonix to Col de Voza  Chamonix to La Charme  \\\n",
       "0                  13.6                     11.8                   15.4   \n",
       "\n",
       "   Chamonix to St-Gervais  Delevret to St-Gervais  Col de Voza to Contamines  \\\n",
       "0                    22.7                      13                       10.8   \n",
       "\n",
       "   La Charme to St-Gervais  St-Gervais to Contamines  Contamines to La Balme  \\\n",
       "0                      6.2                      10.3                     8.1   \n",
       "\n",
       "   Contamines to Bonhomme         ...           Les Tseppe to Vallorcine  \\\n",
       "0                    13.4         ...                                7.2   \n",
       "\n",
       "   Vallorcine to La Gardes  Vallorcine to Tete aux Vents  \\\n",
       "0                        8                           7.7   \n",
       "\n",
       "   Vallorcine to Argentiere  Vallorcine to Col Montet  La Gardes to Chamonix  \\\n",
       "0                       6.3                       3.8                      7   \n",
       "\n",
       "   Tete aux Vents to Flegere  Argentiere to Chamonix  Col Montet to Flegere  \\\n",
       "0                        3.6                     8.7                    7.5   \n",
       "\n",
       "   Flegere to Chamonix  \n",
       "0                  7.3  \n",
       "\n",
       "[1 rows x 61 columns]"
      ]
     },
     "execution_count": 3,
     "metadata": {},
     "output_type": "execute_result"
    }
   ],
   "source": [
    "df.head()"
   ]
  },
  {
   "cell_type": "markdown",
   "metadata": {},
   "source": [
    "## 2004"
   ]
  },
  {
   "cell_type": "code",
   "execution_count": 4,
   "metadata": {},
   "outputs": [
    {
     "data": {
      "text/plain": [
       "154.20000000000002"
      ]
     },
     "execution_count": 4,
     "metadata": {},
     "output_type": "execute_result"
    }
   ],
   "source": [
    "df04 = pd.read_csv('../../data/df04_full.csv', encoding = \"ISO-8859-1\")\n",
    "result = df.append(df04)[df04.columns.tolist()]\n",
    "result = result.dropna(axis=1,thresh=10)\n",
    "dis = result.iloc[0]\n",
    "dis.sum()"
   ]
  },
  {
   "cell_type": "markdown",
   "metadata": {},
   "source": [
    "## 2005"
   ]
  },
  {
   "cell_type": "code",
   "execution_count": 5,
   "metadata": {},
   "outputs": [
    {
     "data": {
      "text/plain": [
       "154.0"
      ]
     },
     "execution_count": 5,
     "metadata": {},
     "output_type": "execute_result"
    }
   ],
   "source": [
    "df05 = pd.read_csv('../../data/df05_full.csv', encoding = \"ISO-8859-1\")\n",
    "result = df.append(df05)[df05.columns.tolist()]\n",
    "result = result.dropna(axis=1,thresh=10)\n",
    "dis = result.iloc[0]\n",
    "dis.sum()"
   ]
  },
  {
   "cell_type": "markdown",
   "metadata": {},
   "source": [
    "## 2006"
   ]
  },
  {
   "cell_type": "code",
   "execution_count": 6,
   "metadata": {},
   "outputs": [
    {
     "data": {
      "text/plain": [
       "158.0"
      ]
     },
     "execution_count": 6,
     "metadata": {},
     "output_type": "execute_result"
    }
   ],
   "source": [
    "df06 = pd.read_csv('../../data/df06_full.csv', encoding = \"ISO-8859-1\")\n",
    "result = df.append(df06)[df06.columns.tolist()]\n",
    "result = result.dropna(axis=1,thresh=10)\n",
    "dis = result.iloc[0]\n",
    "dis.sum()"
   ]
  },
  {
   "cell_type": "markdown",
   "metadata": {},
   "source": [
    "## 2007"
   ]
  },
  {
   "cell_type": "code",
   "execution_count": 7,
   "metadata": {},
   "outputs": [
    {
     "data": {
      "text/plain": [
       "166.2"
      ]
     },
     "execution_count": 7,
     "metadata": {},
     "output_type": "execute_result"
    }
   ],
   "source": [
    "df07 = pd.read_csv('../../data/df07_full.csv', encoding = \"ISO-8859-1\")\n",
    "result = df.append(df07)[df07.columns.tolist()]\n",
    "result = result.dropna(axis=1,thresh=10)\n",
    "dis = result.iloc[0]\n",
    "dis.sum()"
   ]
  },
  {
   "cell_type": "markdown",
   "metadata": {},
   "source": [
    "## 2008"
   ]
  },
  {
   "cell_type": "code",
   "execution_count": 8,
   "metadata": {},
   "outputs": [
    {
     "data": {
      "text/plain": [
       "164.59999999999997"
      ]
     },
     "execution_count": 8,
     "metadata": {},
     "output_type": "execute_result"
    }
   ],
   "source": [
    "df08 = pd.read_csv('../../data/df08_full.csv', encoding = \"ISO-8859-1\")\n",
    "result = df.append(df08)[df08.columns.tolist()]\n",
    "result = result.dropna(axis=1,thresh=10)\n",
    "dis = result.iloc[0]\n",
    "dis.sum()"
   ]
  },
  {
   "cell_type": "markdown",
   "metadata": {},
   "source": [
    "## 2009"
   ]
  },
  {
   "cell_type": "code",
   "execution_count": 9,
   "metadata": {},
   "outputs": [
    {
     "data": {
      "text/plain": [
       "165.7"
      ]
     },
     "execution_count": 9,
     "metadata": {},
     "output_type": "execute_result"
    }
   ],
   "source": [
    "df09 = pd.read_csv('../../data/df09_full.csv', encoding = \"ISO-8859-1\")\n",
    "result = df.append(df09)[df09.columns.tolist()]\n",
    "result = result.dropna(axis=1,thresh=10)\n",
    "dis = result.iloc[0]\n",
    "dis.sum()"
   ]
  },
  {
   "cell_type": "markdown",
   "metadata": {},
   "source": [
    "## 2011"
   ]
  },
  {
   "cell_type": "code",
   "execution_count": 10,
   "metadata": {},
   "outputs": [
    {
     "data": {
      "text/plain": [
       "170.69999999999996"
      ]
     },
     "execution_count": 10,
     "metadata": {},
     "output_type": "execute_result"
    }
   ],
   "source": [
    "df11 = pd.read_csv('../../data/df11_full.csv', encoding = \"ISO-8859-1\")\n",
    "result = df.append(df11)[df11.columns.tolist()]\n",
    "result = result.dropna(axis=1,thresh=10)\n",
    "dis = result.iloc[0]\n",
    "dis.sum()"
   ]
  },
  {
   "cell_type": "markdown",
   "metadata": {},
   "source": [
    "## 2013"
   ]
  },
  {
   "cell_type": "code",
   "execution_count": 11,
   "metadata": {},
   "outputs": [
    {
     "data": {
      "text/plain": [
       "169.59999999999997"
      ]
     },
     "execution_count": 11,
     "metadata": {},
     "output_type": "execute_result"
    }
   ],
   "source": [
    "df13 = pd.read_csv('../../data/df13_full.csv', encoding = \"ISO-8859-1\")\n",
    "result = df.append(df13)[df13.columns.tolist()]\n",
    "result = result.dropna(axis=1,thresh=10)\n",
    "dis = result.iloc[0]\n",
    "dis.sum()"
   ]
  },
  {
   "cell_type": "markdown",
   "metadata": {},
   "source": [
    "## 2014"
   ]
  },
  {
   "cell_type": "code",
   "execution_count": 12,
   "metadata": {},
   "outputs": [
    {
     "data": {
      "text/plain": [
       "169.6"
      ]
     },
     "execution_count": 12,
     "metadata": {},
     "output_type": "execute_result"
    }
   ],
   "source": [
    "df14 = pd.read_csv('../../data/df14_full.csv', encoding = \"ISO-8859-1\")\n",
    "result = df.append(df14)[df14.columns.tolist()]\n",
    "result = result.dropna(axis=1,thresh=10)\n",
    "dis = result.iloc[0]\n",
    "dis.sum()"
   ]
  },
  {
   "cell_type": "markdown",
   "metadata": {},
   "source": [
    "## 2015"
   ]
  },
  {
   "cell_type": "code",
   "execution_count": 13,
   "metadata": {},
   "outputs": [
    {
     "data": {
      "text/plain": [
       "167.2"
      ]
     },
     "execution_count": 13,
     "metadata": {},
     "output_type": "execute_result"
    }
   ],
   "source": [
    "df15 = pd.read_csv('../../data/df15_full.csv', encoding = \"ISO-8859-1\")\n",
    "result = df.append(df15)[df15.columns.tolist()]\n",
    "result = result.dropna(axis=1,thresh=10)\n",
    "dis = result.iloc[0]\n",
    "dis.sum()"
   ]
  },
  {
   "cell_type": "markdown",
   "metadata": {},
   "source": [
    "## 2016"
   ]
  },
  {
   "cell_type": "code",
   "execution_count": 14,
   "metadata": {},
   "outputs": [
    {
     "data": {
      "text/plain": [
       "170.5"
      ]
     },
     "execution_count": 14,
     "metadata": {},
     "output_type": "execute_result"
    }
   ],
   "source": [
    "df16 = pd.read_csv('../../data/df16_full.csv', encoding = \"ISO-8859-1\")\n",
    "result = df.append(df16)[df16.columns.tolist()]\n",
    "result = result.dropna(axis=1,thresh=10)\n",
    "dis = result.iloc[0]\n",
    "dis.sum()"
   ]
  },
  {
   "cell_type": "markdown",
   "metadata": {},
   "source": [
    "## 2017"
   ]
  },
  {
   "cell_type": "code",
   "execution_count": 15,
   "metadata": {},
   "outputs": [
    {
     "data": {
      "text/plain": [
       "169.9"
      ]
     },
     "execution_count": 15,
     "metadata": {},
     "output_type": "execute_result"
    }
   ],
   "source": [
    "df17 = pd.read_csv('../../data/df17_full.csv', encoding = \"ISO-8859-1\")\n",
    "result = df.append(df17)[df17.columns.tolist()]\n",
    "result = result.dropna(axis=1,thresh=10)\n",
    "dis = result.iloc[0]\n",
    "dis.sum()"
   ]
  },
  {
   "cell_type": "code",
   "execution_count": null,
   "metadata": {
    "collapsed": true
   },
   "outputs": [],
   "source": []
  }
 ],
 "metadata": {
  "kernelspec": {
   "display_name": "Python 3",
   "language": "python",
   "name": "python3"
  },
  "language_info": {
   "codemirror_mode": {
    "name": "ipython",
    "version": 3
   },
   "file_extension": ".py",
   "mimetype": "text/x-python",
   "name": "python",
   "nbconvert_exporter": "python",
   "pygments_lexer": "ipython3",
   "version": "3.6.3"
  }
 },
 "nbformat": 4,
 "nbformat_minor": 2
}
